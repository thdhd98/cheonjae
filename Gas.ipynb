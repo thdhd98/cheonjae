{
 "cells": [
  {
   "cell_type": "markdown",
   "id": "56d27c44",
   "metadata": {},
   "source": [
    "확인한 데이터를 어떤식으로 전처리를 할지\n",
    "-이상치\n",
    "내 목적을 이루는 딥러닝 추천모델을 설계(제작 or 찾아서 사용)\n",
    "ex) CNN을 사용하거나,RNN을 사용하거나\n",
    "\n",
    "모델의 성능 확인\n",
    "(후에 모델을 선택한 이유를 발표해야함-가장 최신출시,가장 높은 정확도 같이 선택한 이유가 있어야함)\n",
    "전처리를 무엇을 했는지(전처리의 전반적인 히스토리), 모델의 결과까지 설명해주면 됨\n"
   ]
  },
  {
   "cell_type": "markdown",
   "id": "f37af4aa",
   "metadata": {},
   "source": [
    "#### 가스공급량 수요예측 모델개발\n",
    "Public 리더보드 : 전체 테스트 데이터 중 무작위 50%\n",
    "본대회에서는 NMAE(Normalized Mean Absolute Error)-정규화 평균 절대 오차 척도를 사용하여 평가합니다.\n",
    "import pandas as pd\n",
    "import numpy as np\n",
    "\n",
    "\n",
    "def nmae(true_df, pred_df):\n",
    "    target_idx = true_df.iloc[:,0]\n",
    "    pred_df = pred_df[pred_df.iloc[:,0].isin(target_idx)]\n",
    "    pred_df = pred_df.sort_values(by=[pred_df.columns[0]], ascending=[True])\n",
    "    true_df = true_df.sort_values(by=[true_df.columns[0]], ascending=[True])\n",
    "    \n",
    "    true = true_df.iloc[:,1].to_numpy()\n",
    "    pred = pred_df.iloc[:,1].to_numpy()\n",
    "    \n",
    "    score = np.mean((np.abs(true-pred))/true)\n",
    "    \n",
    "    return score"
   ]
  },
  {
   "cell_type": "code",
   "execution_count": 1,
   "id": "d2362088",
   "metadata": {},
   "outputs": [],
   "source": [
    "import pandas as pd\n",
    "import numpy as np\n",
    "import matplotlib.pyplot as plt\n",
    "from sklearn.preprocessing import MinMaxScaler\n",
    "from tensorflow.keras import Sequential\n",
    "from tensorflow.keras.layers import Dense, LSTM, Dropout"
   ]
  },
  {
   "cell_type": "markdown",
   "id": "36b7d084",
   "metadata": {},
   "source": [
    "#### 코드 불러옴"
   ]
  },
  {
   "cell_type": "code",
   "execution_count": 2,
   "id": "6b03fc0e",
   "metadata": {},
   "outputs": [
    {
     "data": {
      "text/html": [
       "<div>\n",
       "<style scoped>\n",
       "    .dataframe tbody tr th:only-of-type {\n",
       "        vertical-align: middle;\n",
       "    }\n",
       "\n",
       "    .dataframe tbody tr th {\n",
       "        vertical-align: top;\n",
       "    }\n",
       "\n",
       "    .dataframe thead th {\n",
       "        text-align: right;\n",
       "    }\n",
       "</style>\n",
       "<table border=\"1\" class=\"dataframe\">\n",
       "  <thead>\n",
       "    <tr style=\"text-align: right;\">\n",
       "      <th></th>\n",
       "      <th>시간</th>\n",
       "      <th>구분</th>\n",
       "      <th>공급량(톤)</th>\n",
       "    </tr>\n",
       "    <tr>\n",
       "      <th>연월일</th>\n",
       "      <th></th>\n",
       "      <th></th>\n",
       "      <th></th>\n",
       "    </tr>\n",
       "  </thead>\n",
       "  <tbody>\n",
       "    <tr>\n",
       "      <th>2013-01-01</th>\n",
       "      <td>1</td>\n",
       "      <td>A</td>\n",
       "      <td>2497.129</td>\n",
       "    </tr>\n",
       "    <tr>\n",
       "      <th>2013-01-01</th>\n",
       "      <td>2</td>\n",
       "      <td>A</td>\n",
       "      <td>2363.265</td>\n",
       "    </tr>\n",
       "  </tbody>\n",
       "</table>\n",
       "</div>"
      ],
      "text/plain": [
       "            시간 구분    공급량(톤)\n",
       "연월일                        \n",
       "2013-01-01   1  A  2497.129\n",
       "2013-01-01   2  A  2363.265"
      ]
     },
     "execution_count": 2,
     "metadata": {},
     "output_type": "execute_result"
    }
   ],
   "source": [
    "gas_data = pd.read_csv('./gas/한국가스공사_시간별 공급량_20181231.csv', encoding='cp949',index_col=0)\n",
    "gas_data.head(2)"
   ]
  },
  {
   "cell_type": "markdown",
   "id": "034a3f0a",
   "metadata": {},
   "source": [
    "#### 전처리"
   ]
  },
  {
   "cell_type": "code",
   "execution_count": 3,
   "id": "8b5b293e",
   "metadata": {},
   "outputs": [
    {
     "data": {
      "text/plain": [
       "(            시간    공급량(톤)  구분_A   구분_B   구분_C   구분_D   구분_E   구분_G   구분_H\n",
       " 연월일                                                                     \n",
       " 2013-01-01   1  2497.129  True  False  False  False  False  False  False\n",
       " 2013-01-01   2  2363.265  True  False  False  False  False  False  False,\n",
       " Index(['시간', '공급량(톤)', '구분_A', '구분_B', '구분_C', '구분_D', '구분_E', '구분_G', '구분_H'], dtype='object'))"
      ]
     },
     "execution_count": 3,
     "metadata": {},
     "output_type": "execute_result"
    }
   ],
   "source": [
    "# 원-핫 인코딩 적용\n",
    "encoded_data = pd.get_dummies(gas_data, columns=['구분'])\n",
    "\n",
    "# 인코딩된 데이터의 처음 몇 줄과 새로운 컬럼들 확인\n",
    "encoded_data.head(2), encoded_data.columns\n"
   ]
  },
  {
   "cell_type": "code",
   "execution_count": 3,
   "id": "07ab12bf",
   "metadata": {},
   "outputs": [
    {
     "data": {
      "text/plain": [
       "(            시간 구분    공급량(톤)  구분_LE\n",
       " 연월일                               \n",
       " 2013-01-01   1  A  2497.129      0\n",
       " 2013-01-01   2  A  2363.265      0\n",
       " 2013-01-01   3  A  2258.505      0\n",
       " 2013-01-01   4  A  2243.969      0\n",
       " 2013-01-01   5  A  2344.105      0,\n",
       " array(['A', 'B', 'C', 'D', 'E', 'G', 'H'], dtype=object))"
      ]
     },
     "execution_count": 3,
     "metadata": {},
     "output_type": "execute_result"
    }
   ],
   "source": [
    "from sklearn.preprocessing import LabelEncoder\n",
    "\n",
    "# 레이블 인코더 초기화\n",
    "label_encoder = LabelEncoder()\n",
    "\n",
    "# `구분` 컬럼에 레이블 인코딩 적용\n",
    "gas_data['구분_LE'] = label_encoder.fit_transform(gas_data['구분'])\n",
    "\n",
    "# 인코딩된 데이터의 처음 몇 줄 확인\n",
    "gas_data.head(), label_encoder.classes_"
   ]
  },
  {
   "cell_type": "code",
   "execution_count": 4,
   "id": "d0d6db96",
   "metadata": {},
   "outputs": [
    {
     "data": {
      "text/plain": [
       "시간        0\n",
       "구분        0\n",
       "공급량(톤)    0\n",
       "구분_LE     0\n",
       "dtype: int64"
      ]
     },
     "execution_count": 4,
     "metadata": {},
     "output_type": "execute_result"
    }
   ],
   "source": [
    "gas_data.isnull().sum()"
   ]
  },
  {
   "cell_type": "code",
   "execution_count": 5,
   "id": "ad53a1be",
   "metadata": {},
   "outputs": [
    {
     "data": {
      "text/plain": [
       "count    368088.000000\n",
       "mean        948.100037\n",
       "std         927.211578\n",
       "min           1.378000\n",
       "25%         221.973000\n",
       "50%         637.014000\n",
       "75%        1398.919000\n",
       "max       11593.617000\n",
       "Name: 공급량(톤), dtype: float64"
      ]
     },
     "execution_count": 5,
     "metadata": {},
     "output_type": "execute_result"
    }
   ],
   "source": [
    "gas_data['공급량(톤)'].describe()"
   ]
  },
  {
   "cell_type": "code",
   "execution_count": 6,
   "id": "b6e97419",
   "metadata": {},
   "outputs": [
    {
     "data": {
      "text/plain": [
       "(-1543.4460000000004, 3164.3380000000006, (13184, 4))"
      ]
     },
     "execution_count": 6,
     "metadata": {},
     "output_type": "execute_result"
    }
   ],
   "source": [
    "# 공급량(톤) 컬럼의 이상치 검출 - IQR 방식\n",
    "Q1 = gas_data['공급량(톤)'].quantile(0.25)\n",
    "Q3 = gas_data['공급량(톤)'].quantile(0.75)\n",
    "IQR = Q3 - Q1\n",
    "\n",
    "# 이상치 범위 계산\n",
    "lower_bound = Q1 - 1.5 * IQR\n",
    "upper_bound = Q3 + 1.5 * IQR\n",
    "\n",
    "# 이상치 감지\n",
    "outliers = gas_data[(gas_data['공급량(톤)'] < lower_bound) | (gas_data['공급량(톤)'] > upper_bound)]\n",
    "\n",
    "lower_bound, upper_bound, outliers.shape"
   ]
  },
  {
   "cell_type": "code",
   "execution_count": 7,
   "id": "d76436ca",
   "metadata": {},
   "outputs": [
    {
     "data": {
      "text/plain": [
       "시간        418\n",
       "구분        418\n",
       "공급량(톤)    418\n",
       "구분_LE     418\n",
       "dtype: int64"
      ]
     },
     "execution_count": 7,
     "metadata": {},
     "output_type": "execute_result"
    }
   ],
   "source": [
    "gas_data[gas_data['공급량(톤)']>5000].count()"
   ]
  },
  {
   "cell_type": "code",
   "execution_count": 8,
   "id": "8d449278",
   "metadata": {},
   "outputs": [
    {
     "data": {
      "text/plain": [
       "(354904, 4)"
      ]
     },
     "execution_count": 8,
     "metadata": {},
     "output_type": "execute_result"
    }
   ],
   "source": [
    "# 이상치를 제외한 데이터\n",
    "data_cleaned = gas_data[(gas_data['공급량(톤)'] >= lower_bound) & (gas_data['공급량(톤)'] <= upper_bound)]\n",
    "\n",
    "# 이상치를 제거한 후의 데이터 형태\n",
    "data_cleaned.shape"
   ]
  },
  {
   "cell_type": "code",
   "execution_count": 9,
   "id": "10093e89",
   "metadata": {},
   "outputs": [
    {
     "data": {
      "image/png": "[encoded data removed]",
      "text/plain": [
       "<Figure size 1000x600 with 1 Axes>"
      ]
     },
     "metadata": {},
     "output_type": "display_data"
    },
    {
     "data": {
      "image/png": "[encoded data removed]",
      "text/plain": [
       "<Figure size 1000x600 with 1 Axes>"
      ]
     },
     "metadata": {},
     "output_type": "display_data"
    }
   ],
   "source": [
    "import matplotlib.pyplot as plt\n",
    "import seaborn as sns\n",
    "\n",
    "plt.rcParams['font.family'] ='Malgun Gothic'\n",
    "\n",
    "# 이상치를 포함한 원본 데이터의 공급량 분포 시각화\n",
    "plt.figure(figsize=(10, 6))\n",
    "sns.boxplot(gas_data['공급량(톤)'])\n",
    "plt.title('Original Data (with Outliers)')\n",
    "\n",
    "plt.show()\n",
    "\n",
    "# 이상치를 제거한 데이터의 공급량 분포 시각화\n",
    "plt.figure(figsize=(10, 6))\n",
    "sns.boxplot(data_cleaned['공급량(톤)'])\n",
    "plt.title('Cleaned Data (without Outliers)')\n",
    "\n",
    "plt.show()"
   ]
  },
  {
   "cell_type": "code",
   "execution_count": null,
   "id": "81d1403d",
   "metadata": {},
   "outputs": [],
   "source": []
  },
  {
   "cell_type": "code",
   "execution_count": 10,
   "id": "f0d41a44",
   "metadata": {},
   "outputs": [
    {
     "name": "stderr",
     "output_type": "stream",
     "text": [
      "C:\\Users\\user\\AppData\\Local\\Temp\\ipykernel_15072\\2635870247.py:4: SettingWithCopyWarning: \n",
      "A value is trying to be set on a copy of a slice from a DataFrame.\n",
      "Try using .loc[row_indexer,col_indexer] = value instead\n",
      "\n",
      "See the caveats in the documentation: https://pandas.pydata.org/pandas-docs/stable/user_guide/indexing.html#returning-a-view-versus-a-copy\n",
      "  dfx[col] = scaler.fit_transform(dfx[[col]])\n",
      "C:\\Users\\user\\AppData\\Local\\Temp\\ipykernel_15072\\2635870247.py:4: SettingWithCopyWarning: \n",
      "A value is trying to be set on a copy of a slice from a DataFrame.\n",
      "Try using .loc[row_indexer,col_indexer] = value instead\n",
      "\n",
      "See the caveats in the documentation: https://pandas.pydata.org/pandas-docs/stable/user_guide/indexing.html#returning-a-view-versus-a-copy\n",
      "  dfx[col] = scaler.fit_transform(dfx[[col]])\n",
      "C:\\Users\\user\\AppData\\Local\\Temp\\ipykernel_15072\\2635870247.py:4: SettingWithCopyWarning: \n",
      "A value is trying to be set on a copy of a slice from a DataFrame.\n",
      "Try using .loc[row_indexer,col_indexer] = value instead\n",
      "\n",
      "See the caveats in the documentation: https://pandas.pydata.org/pandas-docs/stable/user_guide/indexing.html#returning-a-view-versus-a-copy\n",
      "  dfx[col] = scaler.fit_transform(dfx[[col]])\n"
     ]
    }
   ],
   "source": [
    "\n",
    "\n",
    "dfx= gas_data[['시간','구분_LE','공급량(톤)']]\n",
    "for col in dfx.columns:\n",
    "    scaler = MinMaxScaler()\n",
    "    dfx[col] = scaler.fit_transform(dfx[[col]])\n",
    "dfy = dfx[['공급량(톤)']]    \n",
    "dfx = dfx[['시간','구분_LE']]\n",
    "\n",
    "x = dfx.values.tolist()\n",
    "y = dfy.values.tolist()"
   ]
  },
  {
   "cell_type": "markdown",
   "id": "9945fb74",
   "metadata": {},
   "source": [
    "가스 공급 예측모델을 추후에 사용하게 좋게 만들기 위해서는 빠른 학습과 리소스 사용을 최적화 할수 있는 모델인 GRU모델을 사용하였습니다.\n",
    "GRU모델은 LSTM모델보다 파라미터수가 적기에 더 빠른 학습을 할 수 있으며 LSTM과 유사한 정확도를 달성할 수 있습니다."
   ]
  },
  {
   "cell_type": "code",
   "execution_count": 11,
   "id": "6218262c",
   "metadata": {},
   "outputs": [],
   "source": [
    "window_size = 15\n",
    "data_x, data_y = [], []\n",
    "\n",
    "for i in range(len(y) - window_size):\n",
    "    _x = x[i:i+window_size]\n",
    "    _y = y[i+window_size]\n",
    "    data_x.append(_x)\n",
    "    data_y.append(_y)"
   ]
  },
  {
   "cell_type": "code",
   "execution_count": 12,
   "id": "c1026fad",
   "metadata": {},
   "outputs": [
    {
     "name": "stdout",
     "output_type": "stream",
     "text": [
      "훈련 데이터의 크기 : (294458, 15, 2) (294458, 1)\n",
      "테스트 데이터의 크기 : (73615, 15, 2) (73615, 1)\n"
     ]
    }
   ],
   "source": [
    "train_size = int(len(data_y) * 0.8)\n",
    "train_x = np.array(data_x[0 : train_size])\n",
    "train_y = np.array(data_y[0 : train_size])\n",
    "\n",
    "test_size = len(data_y) - train_size\n",
    "test_x = np.array(data_x[train_size : len(data_x)])\n",
    "test_y = np.array(data_y[train_size : len(data_y)])\n",
    "\n",
    "print('훈련 데이터의 크기 :', train_x.shape, train_y.shape)\n",
    "print('테스트 데이터의 크기 :', test_x.shape, test_y.shape)"
   ]
  },
  {
   "cell_type": "code",
   "execution_count": 14,
   "id": "eb507d9f",
   "metadata": {},
   "outputs": [
    {
     "name": "stdout",
     "output_type": "stream",
     "text": [
      "Model: \"sequential_1\"\n",
      "_________________________________________________________________\n",
      " Layer (type)                Output Shape              Param #   \n",
      "=================================================================\n",
      " gru_2 (GRU)                 (None, 15, 64)            13056     \n",
      "                                                                 \n",
      " dropout_2 (Dropout)         (None, 15, 64)            0         \n",
      "                                                                 \n",
      " gru_3 (GRU)                 (None, 32)                9408      \n",
      "                                                                 \n",
      " dropout_3 (Dropout)         (None, 32)                0         \n",
      "                                                                 \n",
      " dense_1 (Dense)             (None, 1)                 33        \n",
      "                                                                 \n",
      "=================================================================\n",
      "Total params: 22497 (87.88 KB)\n",
      "Trainable params: 22497 (87.88 KB)\n",
      "Non-trainable params: 0 (0.00 Byte)\n",
      "_________________________________________________________________\n",
      "Epoch 1/50\n",
      "4141/4141 - 29s - loss: 0.0060 - val_loss: 0.0074 - lr: 0.0010 - 29s/epoch - 7ms/step\n",
      "Epoch 2/50\n",
      "4141/4141 - 27s - loss: 0.0057 - val_loss: 0.0074 - lr: 0.0010 - 27s/epoch - 7ms/step\n",
      "Epoch 3/50\n",
      "4141/4141 - 27s - loss: 0.0038 - val_loss: 0.0039 - lr: 0.0010 - 27s/epoch - 7ms/step\n",
      "Epoch 4/50\n",
      "4141/4141 - 28s - loss: 0.0033 - val_loss: 0.0040 - lr: 0.0010 - 28s/epoch - 7ms/step\n",
      "Epoch 5/50\n",
      "4141/4141 - 27s - loss: 0.0032 - val_loss: 0.0039 - lr: 0.0010 - 27s/epoch - 7ms/step\n",
      "Epoch 6/50\n",
      "4141/4141 - 28s - loss: 0.0032 - val_loss: 0.0039 - lr: 0.0010 - 28s/epoch - 7ms/step\n",
      "Epoch 7/50\n",
      "4141/4141 - 27s - loss: 0.0032 - val_loss: 0.0040 - lr: 0.0010 - 27s/epoch - 7ms/step\n",
      "Epoch 8/50\n",
      "4141/4141 - 27s - loss: 0.0032 - val_loss: 0.0039 - lr: 0.0010 - 27s/epoch - 6ms/step\n",
      "Epoch 9/50\n",
      "4141/4141 - 27s - loss: 0.0032 - val_loss: 0.0040 - lr: 0.0010 - 27s/epoch - 7ms/step\n",
      "Epoch 10/50\n",
      "4141/4141 - 27s - loss: 0.0032 - val_loss: 0.0038 - lr: 0.0010 - 27s/epoch - 7ms/step\n",
      "Epoch 11/50\n",
      "4141/4141 - 27s - loss: 0.0032 - val_loss: 0.0038 - lr: 0.0010 - 27s/epoch - 7ms/step\n",
      "Epoch 12/50\n",
      "4141/4141 - 27s - loss: 0.0032 - val_loss: 0.0039 - lr: 0.0010 - 27s/epoch - 7ms/step\n",
      "Epoch 13/50\n",
      "4141/4141 - 27s - loss: 0.0032 - val_loss: 0.0039 - lr: 0.0010 - 27s/epoch - 7ms/step\n",
      "Epoch 14/50\n",
      "4141/4141 - 27s - loss: 0.0032 - val_loss: 0.0038 - lr: 0.0010 - 27s/epoch - 7ms/step\n",
      "Epoch 15/50\n",
      "4141/4141 - 27s - loss: 0.0032 - val_loss: 0.0039 - lr: 0.0010 - 27s/epoch - 7ms/step\n",
      "Epoch 16/50\n",
      "4141/4141 - 28s - loss: 0.0032 - val_loss: 0.0038 - lr: 0.0010 - 28s/epoch - 7ms/step\n",
      "Epoch 17/50\n",
      "4141/4141 - 27s - loss: 0.0032 - val_loss: 0.0038 - lr: 0.0010 - 27s/epoch - 7ms/step\n",
      "Epoch 18/50\n",
      "4141/4141 - 27s - loss: 0.0032 - val_loss: 0.0038 - lr: 0.0010 - 27s/epoch - 6ms/step\n",
      "Epoch 19/50\n",
      "4141/4141 - 27s - loss: 0.0031 - val_loss: 0.0038 - lr: 0.0010 - 27s/epoch - 7ms/step\n",
      "Epoch 20/50\n",
      "4141/4141 - 27s - loss: 0.0031 - val_loss: 0.0038 - lr: 0.0010 - 27s/epoch - 7ms/step\n",
      "Epoch 21/50\n",
      "4141/4141 - 27s - loss: 0.0031 - val_loss: 0.0039 - lr: 0.0010 - 27s/epoch - 6ms/step\n",
      "Epoch 22/50\n",
      "4141/4141 - 27s - loss: 0.0031 - val_loss: 0.0038 - lr: 0.0010 - 27s/epoch - 6ms/step\n",
      "Epoch 23/50\n",
      "4141/4141 - 27s - loss: 0.0031 - val_loss: 0.0039 - lr: 0.0010 - 27s/epoch - 7ms/step\n",
      "Epoch 24/50\n",
      "4141/4141 - 27s - loss: 0.0031 - val_loss: 0.0038 - lr: 0.0010 - 27s/epoch - 7ms/step\n",
      "Epoch 25/50\n",
      "4141/4141 - 27s - loss: 0.0031 - val_loss: 0.0038 - lr: 0.0010 - 27s/epoch - 7ms/step\n",
      "Epoch 26/50\n",
      "4141/4141 - 26s - loss: 0.0031 - val_loss: 0.0038 - lr: 0.0010 - 26s/epoch - 6ms/step\n",
      "Epoch 27/50\n",
      "4141/4141 - 27s - loss: 0.0031 - val_loss: 0.0038 - lr: 0.0010 - 27s/epoch - 6ms/step\n",
      "Epoch 28/50\n",
      "4141/4141 - 27s - loss: 0.0031 - val_loss: 0.0039 - lr: 0.0010 - 27s/epoch - 7ms/step\n",
      "Epoch 29/50\n",
      "4141/4141 - 27s - loss: 0.0031 - val_loss: 0.0038 - lr: 0.0010 - 27s/epoch - 7ms/step\n",
      "Epoch 30/50\n",
      "4141/4141 - 27s - loss: 0.0031 - val_loss: 0.0038 - lr: 0.0010 - 27s/epoch - 6ms/step\n",
      "Epoch 31/50\n",
      "4141/4141 - 27s - loss: 0.0031 - val_loss: 0.0038 - lr: 0.0010 - 27s/epoch - 6ms/step\n",
      "Epoch 32/50\n",
      "4141/4141 - 27s - loss: 0.0031 - val_loss: 0.0039 - lr: 0.0010 - 27s/epoch - 7ms/step\n",
      "Epoch 33/50\n",
      "4141/4141 - 27s - loss: 0.0031 - val_loss: 0.0038 - lr: 0.0010 - 27s/epoch - 6ms/step\n",
      "Epoch 34/50\n",
      "4141/4141 - 27s - loss: 0.0031 - val_loss: 0.0038 - lr: 0.0010 - 27s/epoch - 6ms/step\n",
      "Epoch 35/50\n",
      "4141/4141 - 27s - loss: 0.0031 - val_loss: 0.0038 - lr: 0.0010 - 27s/epoch - 6ms/step\n",
      "Epoch 36/50\n",
      "4141/4141 - 27s - loss: 0.0031 - val_loss: 0.0038 - lr: 0.0010 - 27s/epoch - 6ms/step\n",
      "Epoch 37/50\n",
      "4141/4141 - 27s - loss: 0.0031 - val_loss: 0.0039 - lr: 0.0010 - 27s/epoch - 6ms/step\n",
      "Epoch 38/50\n",
      "4141/4141 - 29s - loss: 0.0031 - val_loss: 0.0038 - lr: 0.0010 - 29s/epoch - 7ms/step\n",
      "Epoch 39/50\n",
      "4141/4141 - 28s - loss: 0.0031 - val_loss: 0.0039 - lr: 0.0010 - 28s/epoch - 7ms/step\n",
      "Epoch 39: early stopping\n",
      "2301/2301 - 4s - loss: 0.0038 - 4s/epoch - 2ms/step\n",
      "Test loss: 0.0037942861672490835\n"
     ]
    }
   ],
   "source": [
    "from tensorflow.keras.layers import GRU\n",
    "from tensorflow.keras.callbacks import EarlyStopping, ReduceLROnPlateau\n",
    "\n",
    "# 조기 종료 및 학습률 조정을 위한 콜백 설정\n",
    "early_stopping = EarlyStopping(monitor='val_loss', patience=10, verbose=1, mode='min')\n",
    "reduce_lr = ReduceLROnPlateau(monitor='val_loss', factor=0.2, patience=5, min_lr=0.001, mode='min')\n",
    "\n",
    "# 모델 정의 (더 단순화된 구조를 위해 레이어를 하나만 사용)\n",
    "model = Sequential([\n",
    "    # GRU 레이어 추가\n",
    "    GRU(64, input_shape=(train_x.shape[1], train_x.shape[2]), return_sequences=True),\n",
    "    Dropout(0.5), # 과적합 방지를 위한 Dropout 레이어\n",
    "    GRU(32, return_sequences=False),\n",
    "    Dropout(0.5),\n",
    "    Dense(1) # 출력 레이어\n",
    "])\n",
    "\n",
    "# 모델 컴파일\n",
    "model.compile(optimizer='adam', loss='mean_squared_error')\n",
    "\n",
    "# 모델 요약 출력\n",
    "model.summary()\n",
    "\n",
    "# 모델 학습 (배치 크기 증가)\n",
    "history = model.fit(train_x, train_y, epochs=50, batch_size=64, validation_split=0.1, verbose=2,\n",
    "                    callbacks=[early_stopping, reduce_lr])\n",
    "\n",
    "# 모델 평가\n",
    "test_loss = model.evaluate(test_x, test_y, verbose=2)\n",
    "print('Test loss:', test_loss)\n"
   ]
  },
  {
   "cell_type": "markdown",
   "id": "771ec60b",
   "metadata": {},
   "source": [
    "### 이상치,minmaxsacling\n",
    "window_size = 15\n",
    "GRU(64, input_shape=(train_x.shape[1], train_x.shape[2]), return_sequences=True),\n",
    "    Dropout(0.5), # 과적합 방지를 위한 Dropout 레이어\n",
    "    GRU(32, return_sequences=False),\n",
    "    Dropout(0.5),\n",
    "    Dense(1) # 출력 레이어\n",
    "\n",
    "epochs=50, batch_size=64, validation_split=0.1, verbose=2"
   ]
  },
  {
   "cell_type": "code",
   "execution_count": 15,
   "id": "d798ddf5",
   "metadata": {},
   "outputs": [
    {
     "name": "stdout",
     "output_type": "stream",
     "text": [
      "2301/2301 [==============================] - 4s 2ms/step\n"
     ]
    },
    {
     "data": {
      "image/png": "[encoded data removed]",
      "text/plain": [
       "<Figure size 640x480 with 1 Axes>"
      ]
     },
     "metadata": {},
     "output_type": "display_data"
    }
   ],
   "source": [
    "pred_y = model.predict(test_x)\n",
    "\n",
    "plt.figure()\n",
    "plt.plot(test_y, color='red', label='real target y')\n",
    "plt.plot(pred_y, color='blue', label='predict y')\n",
    "plt.legend()\n",
    "plt.show()"
   ]
  },
  {
   "cell_type": "code",
   "execution_count": null,
   "id": "68f407bb",
   "metadata": {},
   "outputs": [],
   "source": []
  },
  {
   "cell_type": "code",
   "execution_count": 1,
   "id": "e98c2703",
   "metadata": {},
   "outputs": [
    {
     "name": "stdout",
     "output_type": "stream",
     "text": [
      "Model: \"sequential\"\n",
      "_________________________________________________________________\n",
      " Layer (type)                Output Shape              Param #   \n",
      "=================================================================\n",
      " gru (GRU)                   (None, 5, 64)             14208     \n",
      "                                                                 \n",
      " dropout (Dropout)           (None, 5, 64)             0         \n",
      "                                                                 \n",
      " gru_1 (GRU)                 (None, 32)                9408      \n",
      "                                                                 \n",
      " dropout_1 (Dropout)         (None, 32)                0         \n",
      "                                                                 \n",
      " dense (Dense)               (None, 1)                 33        \n",
      "                                                                 \n",
      "=================================================================\n",
      "Total params: 23649 (92.38 KB)\n",
      "Trainable params: 23649 (92.38 KB)\n",
      "Non-trainable params: 0 (0.00 Byte)\n",
      "_________________________________________________________________\n",
      "Epoch 1/50\n",
      "4141/4141 - 16s - loss: 0.0038 - val_loss: 0.0039 - lr: 0.0010 - 16s/epoch - 4ms/step\n",
      "Epoch 2/50\n",
      "4141/4141 - 13s - loss: 0.0033 - val_loss: 0.0041 - lr: 0.0010 - 13s/epoch - 3ms/step\n",
      "Epoch 3/50\n",
      "4141/4141 - 14s - loss: 0.0033 - val_loss: 0.0039 - lr: 0.0010 - 14s/epoch - 3ms/step\n",
      "Epoch 4/50\n",
      "4141/4141 - 14s - loss: 0.0032 - val_loss: 0.0039 - lr: 0.0010 - 14s/epoch - 3ms/step\n",
      "Epoch 5/50\n",
      "4141/4141 - 14s - loss: 0.0032 - val_loss: 0.0038 - lr: 0.0010 - 14s/epoch - 3ms/step\n",
      "Epoch 6/50\n",
      "4141/4141 - 15s - loss: 0.0032 - val_loss: 0.0040 - lr: 0.0010 - 15s/epoch - 4ms/step\n",
      "Epoch 7/50\n",
      "4141/4141 - 15s - loss: 0.0032 - val_loss: 0.0039 - lr: 0.0010 - 15s/epoch - 4ms/step\n",
      "Epoch 8/50\n",
      "4141/4141 - 14s - loss: 0.0031 - val_loss: 0.0038 - lr: 0.0010 - 14s/epoch - 3ms/step\n",
      "Epoch 9/50\n",
      "4141/4141 - 14s - loss: 0.0031 - val_loss: 0.0039 - lr: 0.0010 - 14s/epoch - 3ms/step\n",
      "Epoch 10/50\n",
      "4141/4141 - 14s - loss: 0.0031 - val_loss: 0.0038 - lr: 0.0010 - 14s/epoch - 3ms/step\n",
      "Epoch 11/50\n",
      "4141/4141 - 14s - loss: 0.0031 - val_loss: 0.0039 - lr: 0.0010 - 14s/epoch - 3ms/step\n",
      "Epoch 12/50\n",
      "4141/4141 - 14s - loss: 0.0031 - val_loss: 0.0038 - lr: 0.0010 - 14s/epoch - 3ms/step\n",
      "Epoch 13/50\n",
      "4141/4141 - 14s - loss: 0.0031 - val_loss: 0.0038 - lr: 0.0010 - 14s/epoch - 3ms/step\n",
      "Epoch 14/50\n",
      "4141/4141 - 14s - loss: 0.0031 - val_loss: 0.0038 - lr: 0.0010 - 14s/epoch - 3ms/step\n",
      "Epoch 15/50\n",
      "4141/4141 - 15s - loss: 0.0031 - val_loss: 0.0038 - lr: 0.0010 - 15s/epoch - 4ms/step\n",
      "Epoch 16/50\n",
      "4141/4141 - 17s - loss: 0.0031 - val_loss: 0.0039 - lr: 0.0010 - 17s/epoch - 4ms/step\n",
      "Epoch 17/50\n",
      "4141/4141 - 15s - loss: 0.0031 - val_loss: 0.0038 - lr: 0.0010 - 15s/epoch - 4ms/step\n",
      "Epoch 18/50\n",
      "4141/4141 - 14s - loss: 0.0031 - val_loss: 0.0038 - lr: 0.0010 - 14s/epoch - 3ms/step\n",
      "Epoch 19/50\n",
      "4141/4141 - 14s - loss: 0.0031 - val_loss: 0.0038 - lr: 0.0010 - 14s/epoch - 3ms/step\n",
      "Epoch 20/50\n",
      "4141/4141 - 16s - loss: 0.0031 - val_loss: 0.0038 - lr: 0.0010 - 16s/epoch - 4ms/step\n",
      "Epoch 20: early stopping\n",
      "2301/2301 - 3s - loss: 0.0037 - 3s/epoch - 1ms/step\n",
      "Test loss: 0.003735334612429142\n"
     ]
    }
   ],
   "source": [
    "import pandas as pd\n",
    "import numpy as np\n",
    "from sklearn.preprocessing import MinMaxScaler\n",
    "from tensorflow.keras.models import Sequential\n",
    "from tensorflow.keras.layers import GRU, Dropout, Dense\n",
    "\n",
    "# 데이터 불러오기\n",
    "gas_data = pd.read_csv('./gas/한국가스공사_시간별 공급량_20181231.csv', encoding='cp949', index_col=0)\n",
    "\n",
    "# 원-핫 인코딩 적용\n",
    "gas_data_encoded = pd.get_dummies(gas_data, columns=['구분'])\n",
    "\n",
    "# 이상치 제거와 표준화를 위한 데이터 준비\n",
    "dfx = gas_data_encoded.drop('공급량(톤)', axis=1)\n",
    "dfy = gas_data_encoded['공급량(톤)']\n",
    "\n",
    "# 데이터 스케일링\n",
    "scaler_x = MinMaxScaler()\n",
    "scaler_y = MinMaxScaler()\n",
    "\n",
    "dfx_scaled = scaler_x.fit_transform(dfx)\n",
    "dfy_scaled = scaler_y.fit_transform(dfy.values.reshape(-1, 1))\n",
    "\n",
    "# 시퀀스 데이터 준비\n",
    "def create_dataset(X, y, window_size=5):\n",
    "    data_x, data_y = [], []\n",
    "    for i in range(len(X) - window_size):\n",
    "        data_x.append(X[i:(i + window_size)])\n",
    "        data_y.append(y[i + window_size])\n",
    "    return np.array(data_x), np.array(data_y)\n",
    "\n",
    "data_x, data_y = create_dataset(dfx_scaled, dfy_scaled, window_size=5)\n",
    "\n",
    "# 데이터 분할\n",
    "train_size = int(len(data_y) * 0.8)\n",
    "train_x, train_y = data_x[:train_size], data_y[:train_size]\n",
    "test_x, test_y = data_x[train_size:], data_y[train_size:]\n",
    "\n",
    "from tensorflow.keras.callbacks import EarlyStopping, ReduceLROnPlateau\n",
    "\n",
    "# 조기 종료 및 학습률 조정을 위한 콜백 설정\n",
    "early_stopping = EarlyStopping(monitor='val_loss', patience=10, verbose=1, mode='min')\n",
    "reduce_lr = ReduceLROnPlateau(monitor='val_loss', factor=0.2, patience=5, min_lr=0.001, mode='min')\n",
    "\n",
    "# GRU 모델 구성\n",
    "model = Sequential([\n",
    "    GRU(64, input_shape=(train_x.shape[1], train_x.shape[2]), return_sequences=True),\n",
    "    Dropout(0.5),\n",
    "    GRU(32, return_sequences=False),\n",
    "    Dropout(0.5),\n",
    "    Dense(1)\n",
    "])\n",
    "\n",
    "model.compile(optimizer='adam', loss='mean_squared_error')\n",
    "model.summary()\n",
    "\n",
    "# 모델 학습\n",
    "history = model.fit(train_x, train_y, epochs=50, batch_size=64, validation_split=0.1, verbose=2,\n",
    "                    callbacks=[early_stopping, reduce_lr])\n",
    "\n",
    "# 모델 평가\n",
    "test_loss = model.evaluate(test_x, test_y, verbose=2)\n",
    "print('Test loss:', test_loss)\n"
   ]
  },
  {
   "cell_type": "markdown",
   "id": "2cc2f34e",
   "metadata": {},
   "source": [
    "window_size=5\n",
    "GRU(64, input_shape=(train_x.shape[1], train_x.shape[2]), return_sequences=True),\n",
    "    Dropout(0.5),\n",
    "    GRU(32, return_sequences=False),\n",
    "    Dropout(0.5),\n",
    "    Dense(1)\n",
    "epochs=50, batch_size=64, validation_split=0.1, verbose=2"
   ]
  },
  {
   "cell_type": "code",
   "execution_count": 3,
   "id": "3154d9c6",
   "metadata": {},
   "outputs": [
    {
     "name": "stdout",
     "output_type": "stream",
     "text": [
      "2301/2301 [==============================] - 3s 1ms/step\n"
     ]
    },
    {
     "data": {
      "image/png": "[encoded data removed]",
      "text/plain": [
       "<Figure size 640x480 with 1 Axes>"
      ]
     },
     "metadata": {},
     "output_type": "display_data"
    }
   ],
   "source": [
    "import matplotlib.pyplot as plt\n",
    "pred_y = model.predict(test_x)\n",
    "\n",
    "plt.figure()\n",
    "plt.plot(test_y, color='red', label='real target y')\n",
    "plt.plot(pred_y, color='blue', label='predict y')\n",
    "plt.legend()\n",
    "plt.show()"
   ]
  },
  {
   "cell_type": "code",
   "execution_count": null,
   "id": "933efbd2",
   "metadata": {},
   "outputs": [],
   "source": []
  },
  {
   "cell_type": "code",
   "execution_count": 9,
   "id": "66c13e49",
   "metadata": {},
   "outputs": [
    {
     "name": "stdout",
     "output_type": "stream",
     "text": [
      "Model: \"sequential_3\"\n",
      "_________________________________________________________________\n",
      " Layer (type)                Output Shape              Param #   \n",
      "=================================================================\n",
      " gru_6 (GRU)                 (None, 5, 64)             14208     \n",
      "                                                                 \n",
      " dropout_6 (Dropout)         (None, 5, 64)             0         \n",
      "                                                                 \n",
      " gru_7 (GRU)                 (None, 32)                9408      \n",
      "                                                                 \n",
      " dropout_7 (Dropout)         (None, 32)                0         \n",
      "                                                                 \n",
      " dense_3 (Dense)             (None, 1)                 33        \n",
      "                                                                 \n",
      "=================================================================\n",
      "Total params: 23649 (92.38 KB)\n",
      "Trainable params: 23649 (92.38 KB)\n",
      "Non-trainable params: 0 (0.00 Byte)\n",
      "_________________________________________________________________\n",
      "Epoch 1/50\n",
      "4141/4141 - 15s - loss: 0.0038 - val_loss: 0.0041 - lr: 0.0010 - 15s/epoch - 4ms/step\n",
      "Epoch 2/50\n",
      "4141/4141 - 13s - loss: 0.0033 - val_loss: 0.0039 - lr: 0.0010 - 13s/epoch - 3ms/step\n",
      "Epoch 3/50\n",
      "4141/4141 - 13s - loss: 0.0033 - val_loss: 0.0039 - lr: 0.0010 - 13s/epoch - 3ms/step\n",
      "Epoch 4/50\n",
      "4141/4141 - 12s - loss: 0.0032 - val_loss: 0.0039 - lr: 0.0010 - 12s/epoch - 3ms/step\n",
      "Epoch 5/50\n",
      "4141/4141 - 13s - loss: 0.0032 - val_loss: 0.0039 - lr: 0.0010 - 13s/epoch - 3ms/step\n",
      "Epoch 6/50\n",
      "4141/4141 - 12s - loss: 0.0032 - val_loss: 0.0039 - lr: 0.0010 - 12s/epoch - 3ms/step\n",
      "Epoch 7/50\n",
      "4141/4141 - 13s - loss: 0.0032 - val_loss: 0.0038 - lr: 0.0010 - 13s/epoch - 3ms/step\n",
      "Epoch 8/50\n",
      "4141/4141 - 13s - loss: 0.0031 - val_loss: 0.0039 - lr: 0.0010 - 13s/epoch - 3ms/step\n",
      "Epoch 9/50\n",
      "4141/4141 - 13s - loss: 0.0031 - val_loss: 0.0038 - lr: 0.0010 - 13s/epoch - 3ms/step\n",
      "Epoch 10/50\n",
      "4141/4141 - 13s - loss: 0.0031 - val_loss: 0.0039 - lr: 0.0010 - 13s/epoch - 3ms/step\n",
      "Epoch 11/50\n",
      "4141/4141 - 13s - loss: 0.0031 - val_loss: 0.0038 - lr: 0.0010 - 13s/epoch - 3ms/step\n",
      "Epoch 12/50\n",
      "4141/4141 - 13s - loss: 0.0031 - val_loss: 0.0040 - lr: 0.0010 - 13s/epoch - 3ms/step\n",
      "Epoch 13/50\n",
      "4141/4141 - 12s - loss: 0.0031 - val_loss: 0.0038 - lr: 0.0010 - 12s/epoch - 3ms/step\n",
      "Epoch 14/50\n",
      "4141/4141 - 12s - loss: 0.0031 - val_loss: 0.0038 - lr: 0.0010 - 12s/epoch - 3ms/step\n",
      "Epoch 15/50\n",
      "4141/4141 - 12s - loss: 0.0031 - val_loss: 0.0039 - lr: 0.0010 - 12s/epoch - 3ms/step\n",
      "Epoch 16/50\n",
      "4141/4141 - 13s - loss: 0.0031 - val_loss: 0.0038 - lr: 0.0010 - 13s/epoch - 3ms/step\n",
      "Epoch 17/50\n",
      "4141/4141 - 13s - loss: 0.0031 - val_loss: 0.0038 - lr: 0.0010 - 13s/epoch - 3ms/step\n",
      "Epoch 18/50\n",
      "4141/4141 - 13s - loss: 0.0031 - val_loss: 0.0039 - lr: 0.0010 - 13s/epoch - 3ms/step\n",
      "Epoch 19/50\n",
      "4141/4141 - 13s - loss: 0.0031 - val_loss: 0.0038 - lr: 0.0010 - 13s/epoch - 3ms/step\n",
      "Epoch 20/50\n",
      "4141/4141 - 13s - loss: 0.0031 - val_loss: 0.0039 - lr: 0.0010 - 13s/epoch - 3ms/step\n",
      "Epoch 21/50\n",
      "4141/4141 - 13s - loss: 0.0031 - val_loss: 0.0038 - lr: 0.0010 - 13s/epoch - 3ms/step\n",
      "Epoch 22/50\n",
      "4141/4141 - 13s - loss: 0.0031 - val_loss: 0.0038 - lr: 0.0010 - 13s/epoch - 3ms/step\n",
      "Epoch 23/50\n",
      "4141/4141 - 13s - loss: 0.0031 - val_loss: 0.0039 - lr: 0.0010 - 13s/epoch - 3ms/step\n",
      "Epoch 24/50\n",
      "4141/4141 - 13s - loss: 0.0031 - val_loss: 0.0038 - lr: 0.0010 - 13s/epoch - 3ms/step\n",
      "Epoch 25/50\n",
      "4141/4141 - 13s - loss: 0.0031 - val_loss: 0.0038 - lr: 0.0010 - 13s/epoch - 3ms/step\n",
      "Epoch 26/50\n",
      "4141/4141 - 12s - loss: 0.0031 - val_loss: 0.0038 - lr: 0.0010 - 12s/epoch - 3ms/step\n",
      "Epoch 27/50\n",
      "4141/4141 - 12s - loss: 0.0031 - val_loss: 0.0039 - lr: 0.0010 - 12s/epoch - 3ms/step\n",
      "Epoch 28/50\n",
      "4141/4141 - 12s - loss: 0.0031 - val_loss: 0.0038 - lr: 0.0010 - 12s/epoch - 3ms/step\n",
      "Epoch 29/50\n",
      "4141/4141 - 12s - loss: 0.0031 - val_loss: 0.0038 - lr: 0.0010 - 12s/epoch - 3ms/step\n",
      "Epoch 30/50\n",
      "4141/4141 - 12s - loss: 0.0031 - val_loss: 0.0038 - lr: 0.0010 - 12s/epoch - 3ms/step\n",
      "Epoch 31/50\n",
      "4141/4141 - 12s - loss: 0.0031 - val_loss: 0.0038 - lr: 0.0010 - 12s/epoch - 3ms/step\n",
      "Epoch 32/50\n",
      "4141/4141 - 13s - loss: 0.0031 - val_loss: 0.0038 - lr: 0.0010 - 13s/epoch - 3ms/step\n",
      "Epoch 33/50\n",
      "4141/4141 - 13s - loss: 0.0031 - val_loss: 0.0038 - lr: 0.0010 - 13s/epoch - 3ms/step\n",
      "Epoch 34/50\n",
      "4141/4141 - 13s - loss: 0.0031 - val_loss: 0.0038 - lr: 0.0010 - 13s/epoch - 3ms/step\n",
      "Epoch 35/50\n",
      "4141/4141 - 13s - loss: 0.0031 - val_loss: 0.0038 - lr: 0.0010 - 13s/epoch - 3ms/step\n",
      "Epoch 36/50\n",
      "4141/4141 - 13s - loss: 0.0031 - val_loss: 0.0038 - lr: 0.0010 - 13s/epoch - 3ms/step\n",
      "Epoch 37/50\n",
      "4141/4141 - 12s - loss: 0.0031 - val_loss: 0.0038 - lr: 0.0010 - 12s/epoch - 3ms/step\n",
      "Epoch 38/50\n",
      "4141/4141 - 13s - loss: 0.0031 - val_loss: 0.0038 - lr: 0.0010 - 13s/epoch - 3ms/step\n",
      "Epoch 38: early stopping\n",
      "2301/2301 - 2s - loss: 0.0037 - 2s/epoch - 878us/step\n",
      "Test loss: 0.003678381908684969\n"
     ]
    }
   ],
   "source": [
    "import pandas as pd\n",
    "import numpy as np\n",
    "from sklearn.preprocessing import MinMaxScaler\n",
    "from tensorflow.keras.models import Sequential\n",
    "from tensorflow.keras.layers import GRU, Dropout, Dense\n",
    "\n",
    "# 데이터 불러오기\n",
    "gas_data = pd.read_csv('./gas/한국가스공사_시간별 공급량_20181231.csv', encoding='cp949', index_col=0)\n",
    "\n",
    "# 원-핫 인코딩 적용\n",
    "gas_data_encoded = pd.get_dummies(gas_data, columns=['구분'])\n",
    "\n",
    "# 이상치 제거와 표준화를 위한 데이터 준비\n",
    "dfx = gas_data_encoded.drop('공급량(톤)', axis=1)\n",
    "dfy = gas_data_encoded['공급량(톤)']\n",
    "\n",
    "# 데이터 스케일링\n",
    "scaler_x = MinMaxScaler()\n",
    "scaler_y = MinMaxScaler()\n",
    "\n",
    "dfx_scaled = scaler_x.fit_transform(dfx)\n",
    "dfy_scaled = scaler_y.fit_transform(dfy.values.reshape(-1, 1))\n",
    "\n",
    "# 시퀀스 데이터 준비\n",
    "def create_dataset(X, y, window_size=10):\n",
    "    data_x, data_y = [], []\n",
    "    for i in range(len(X) - window_size):\n",
    "        data_x.append(X[i:(i + window_size)])\n",
    "        data_y.append(y[i + window_size])\n",
    "    return np.array(data_x), np.array(data_y)\n",
    "\n",
    "data_x, data_y = create_dataset(dfx_scaled, dfy_scaled, window_size=5)\n",
    "\n",
    "# 데이터 분할\n",
    "train_size = int(len(data_y) * 0.8)\n",
    "train_x, train_y = data_x[:train_size], data_y[:train_size]\n",
    "test_x, test_y = data_x[train_size:], data_y[train_size:]\n",
    "\n",
    "from tensorflow.keras.callbacks import EarlyStopping, ReduceLROnPlateau\n",
    "\n",
    "# 조기 종료 및 학습률 조정을 위한 콜백 설정\n",
    "early_stopping = EarlyStopping(monitor='val_loss', patience=10, verbose=1, mode='min')\n",
    "reduce_lr = ReduceLROnPlateau(monitor='val_loss', factor=0.2, patience=5, min_lr=0.001, mode='min')\n",
    "\n",
    "# GRU 모델 구성\n",
    "model = Sequential([\n",
    "    GRU(64, input_shape=(train_x.shape[1], train_x.shape[2]), return_sequences=True),\n",
    "    Dropout(0.5),\n",
    "    GRU(32, return_sequences=False),\n",
    "    Dropout(0.5),\n",
    "    Dense(1)\n",
    "])\n",
    "\n",
    "model.compile(optimizer='adam', loss='mean_squared_error')\n",
    "model.summary()\n",
    "\n",
    "# 모델 학습\n",
    "history = model.fit(train_x, train_y, epochs=50, batch_size=64, validation_split=0.1, verbose=2,\n",
    "                    callbacks=[early_stopping, reduce_lr])\n",
    "\n",
    "# 모델 평가\n",
    "test_loss = model.evaluate(test_x, test_y, verbose=2)\n",
    "print('Test loss:', test_loss)\n",
    "\n"
   ]
  },
  {
   "cell_type": "code",
   "execution_count": 14,
   "id": "e03f0cc2",
   "metadata": {},
   "outputs": [
    {
     "name": "stdout",
     "output_type": "stream",
     "text": [
      "(73617, 5, 8)\n"
     ]
    }
   ],
   "source": [
    "print(test_x.shape)\n"
   ]
  },
  {
   "cell_type": "code",
   "execution_count": 10,
   "id": "8d8ecdbc",
   "metadata": {},
   "outputs": [
    {
     "name": "stdout",
     "output_type": "stream",
     "text": [
      "2301/2301 [==============================] - 3s 1ms/step\n"
     ]
    },
    {
     "data": {
      "image/png": "[encoded data removed]",
      "text/plain": [
       "<Figure size 640x480 with 1 Axes>"
      ]
     },
     "metadata": {},
     "output_type": "display_data"
    }
   ],
   "source": [
    "import matplotlib.pyplot as plt\n",
    "pred_y = model.predict(test_x)\n",
    "\n",
    "plt.figure()\n",
    "plt.plot(test_y, color='red', label='real target y')\n",
    "plt.plot(pred_y, color='blue', label='predict y')\n",
    "plt.legend()\n",
    "plt.show()"
   ]
  },
  {
   "cell_type": "code",
   "execution_count": 2,
   "id": "fb641f48",
   "metadata": {},
   "outputs": [
    {
     "name": "stdout",
     "output_type": "stream",
     "text": [
      "Model: \"sequential\"\n",
      "_________________________________________________________________\n",
      " Layer (type)                Output Shape              Param #   \n",
      "=================================================================\n",
      " lstm (LSTM)                 (None, 5, 64)             18688     \n",
      "                                                                 \n",
      " dropout (Dropout)           (None, 5, 64)             0         \n",
      "                                                                 \n",
      " gru (GRU)                   (None, 32)                9408      \n",
      "                                                                 \n",
      " dropout_1 (Dropout)         (None, 32)                0         \n",
      "                                                                 \n",
      " dense (Dense)               (None, 1)                 33        \n",
      "                                                                 \n",
      "=================================================================\n",
      "Total params: 28129 (109.88 KB)\n",
      "Trainable params: 28129 (109.88 KB)\n",
      "Non-trainable params: 0 (0.00 Byte)\n",
      "_________________________________________________________________\n",
      "Epoch 1/50\n",
      "4141/4141 - 19s - loss: 0.0035 - val_loss: 0.0041 - lr: 0.0010 - 19s/epoch - 5ms/step\n",
      "Epoch 2/50\n",
      "4141/4141 - 15s - loss: 0.0033 - val_loss: 0.0040 - lr: 0.0010 - 15s/epoch - 4ms/step\n",
      "Epoch 3/50\n",
      "4141/4141 - 15s - loss: 0.0032 - val_loss: 0.0039 - lr: 0.0010 - 15s/epoch - 4ms/step\n",
      "Epoch 4/50\n",
      "4141/4141 - 15s - loss: 0.0032 - val_loss: 0.0039 - lr: 0.0010 - 15s/epoch - 4ms/step\n",
      "Epoch 5/50\n",
      "4141/4141 - 15s - loss: 0.0032 - val_loss: 0.0039 - lr: 0.0010 - 15s/epoch - 4ms/step\n",
      "Epoch 6/50\n",
      "4141/4141 - 15s - loss: 0.0032 - val_loss: 0.0039 - lr: 0.0010 - 15s/epoch - 4ms/step\n",
      "Epoch 7/50\n",
      "4141/4141 - 15s - loss: 0.0032 - val_loss: 0.0039 - lr: 0.0010 - 15s/epoch - 4ms/step\n",
      "Epoch 8/50\n",
      "4141/4141 - 15s - loss: 0.0032 - val_loss: 0.0039 - lr: 0.0010 - 15s/epoch - 4ms/step\n",
      "Epoch 9/50\n",
      "4141/4141 - 15s - loss: 0.0032 - val_loss: 0.0039 - lr: 0.0010 - 15s/epoch - 4ms/step\n",
      "Epoch 10/50\n",
      "4141/4141 - 15s - loss: 0.0032 - val_loss: 0.0040 - lr: 0.0010 - 15s/epoch - 4ms/step\n",
      "Epoch 11/50\n",
      "4141/4141 - 15s - loss: 0.0032 - val_loss: 0.0040 - lr: 0.0010 - 15s/epoch - 4ms/step\n",
      "Epoch 12/50\n",
      "4141/4141 - 15s - loss: 0.0032 - val_loss: 0.0040 - lr: 0.0010 - 15s/epoch - 4ms/step\n",
      "Epoch 13/50\n",
      "4141/4141 - 15s - loss: 0.0032 - val_loss: 0.0039 - lr: 0.0010 - 15s/epoch - 4ms/step\n",
      "Epoch 14/50\n",
      "4141/4141 - 15s - loss: 0.0031 - val_loss: 0.0040 - lr: 0.0010 - 15s/epoch - 4ms/step\n",
      "Epoch 15/50\n",
      "4141/4141 - 15s - loss: 0.0031 - val_loss: 0.0038 - lr: 0.0010 - 15s/epoch - 4ms/step\n",
      "Epoch 16/50\n",
      "4141/4141 - 15s - loss: 0.0031 - val_loss: 0.0040 - lr: 0.0010 - 15s/epoch - 4ms/step\n",
      "Epoch 17/50\n",
      "4141/4141 - 15s - loss: 0.0031 - val_loss: 0.0038 - lr: 0.0010 - 15s/epoch - 4ms/step\n",
      "Epoch 18/50\n",
      "4141/4141 - 15s - loss: 0.0031 - val_loss: 0.0038 - lr: 0.0010 - 15s/epoch - 4ms/step\n",
      "Epoch 19/50\n",
      "4141/4141 - 15s - loss: 0.0031 - val_loss: 0.0038 - lr: 0.0010 - 15s/epoch - 4ms/step\n",
      "Epoch 20/50\n",
      "4141/4141 - 14s - loss: 0.0031 - val_loss: 0.0038 - lr: 0.0010 - 14s/epoch - 3ms/step\n",
      "Epoch 21/50\n",
      "4141/4141 - 14s - loss: 0.0031 - val_loss: 0.0038 - lr: 0.0010 - 14s/epoch - 3ms/step\n",
      "Epoch 22/50\n",
      "4141/4141 - 14s - loss: 0.0031 - val_loss: 0.0038 - lr: 0.0010 - 14s/epoch - 3ms/step\n",
      "Epoch 23/50\n",
      "4141/4141 - 15s - loss: 0.0031 - val_loss: 0.0038 - lr: 0.0010 - 15s/epoch - 4ms/step\n",
      "Epoch 24/50\n",
      "4141/4141 - 15s - loss: 0.0031 - val_loss: 0.0038 - lr: 0.0010 - 15s/epoch - 4ms/step\n",
      "Epoch 25/50\n",
      "4141/4141 - 15s - loss: 0.0031 - val_loss: 0.0038 - lr: 0.0010 - 15s/epoch - 4ms/step\n",
      "Epoch 25: early stopping\n",
      "2301/2301 - 2s - loss: 0.0038 - 2s/epoch - 1ms/step\n",
      "Test loss: 0.003751187352463603\n",
      "2301/2301 [==============================] - 3s 1ms/step\n"
     ]
    },
    {
     "data": {
      "image/png": "[encoded data removed]",
      "text/plain": [
       "<Figure size 1500x500 with 1 Axes>"
      ]
     },
     "metadata": {},
     "output_type": "display_data"
    }
   ],
   "source": [
    "import pandas as pd\n",
    "import numpy as np\n",
    "from sklearn.preprocessing import MinMaxScaler\n",
    "from tensorflow.keras.models import Sequential\n",
    "from tensorflow.keras.layers import LSTM, GRU, Dropout, Dense\n",
    "import matplotlib.pyplot as plt\n",
    "from tensorflow.keras.callbacks import EarlyStopping, ReduceLROnPlateau\n",
    "\n",
    "# 데이터 불러오기\n",
    "gas_data = pd.read_csv('./gas/한국가스공사_시간별 공급량_20181231.csv', encoding='cp949', index_col=0)\n",
    "\n",
    "# 원-핫 인코딩 적용\n",
    "gas_data_encoded = pd.get_dummies(gas_data, columns=['구분'])\n",
    "\n",
    "# 이상치 제거와 표준화를 위한 데이터 준비\n",
    "dfx = gas_data_encoded.drop('공급량(톤)', axis=1)\n",
    "dfy = gas_data_encoded['공급량(톤)']\n",
    "\n",
    "# 데이터 스케일링\n",
    "scaler_x = MinMaxScaler()\n",
    "scaler_y = MinMaxScaler()\n",
    "\n",
    "dfx_scaled = scaler_x.fit_transform(dfx)\n",
    "dfy_scaled = scaler_y.fit_transform(dfy.values.reshape(-1, 1))\n",
    "\n",
    "# 시퀀스 데이터 준비\n",
    "def create_dataset(X, y, window_size=5):\n",
    "    data_x, data_y = [], []\n",
    "    for i in range(len(X) - window_size):\n",
    "        data_x.append(X[i:(i + window_size)])\n",
    "        data_y.append(y[i + window_size])\n",
    "    return np.array(data_x), np.array(data_y)\n",
    "\n",
    "data_x, data_y = create_dataset(dfx_scaled, dfy_scaled, window_size=5)\n",
    "\n",
    "# 데이터 분할\n",
    "train_size = int(len(data_y) * 0.8)\n",
    "train_x, train_y = data_x[:train_size], data_y[:train_size]\n",
    "test_x, test_y = data_x[train_size:], data_y[train_size:]\n",
    "\n",
    "# 조기 종료 및 학습률 조정을 위한 콜백 설정\n",
    "early_stopping = EarlyStopping(monitor='val_loss', patience=10, verbose=1, mode='min')\n",
    "reduce_lr = ReduceLROnPlateau(monitor='val_loss', factor=0.2, patience=5, min_lr=0.001, mode='min')\n",
    "\n",
    "# LSTM과 GRU를 함께 사용하는 모델 구성\n",
    "model = Sequential([\n",
    "    LSTM(64, input_shape=(train_x.shape[1], train_x.shape[2]), return_sequences=True),\n",
    "    Dropout(0.5),\n",
    "    GRU(32, return_sequences=False),\n",
    "    Dropout(0.5),\n",
    "    Dense(1)\n",
    "])\n",
    "\n",
    "model.compile(optimizer='adam', loss='mean_squared_error')\n",
    "model.summary()\n",
    "\n",
    "# 모델 학습\n",
    "history = model.fit(train_x, train_y, epochs=50, batch_size=64, validation_split=0.1, verbose=2,\n",
    "                    callbacks=[early_stopping, reduce_lr])\n",
    "\n",
    "# 모델 평가\n",
    "test_loss = model.evaluate(test_x, test_y, verbose=2)\n",
    "print('Test loss:', test_loss)\n",
    "\n",
    "# 예측 실행\n",
    "predictions_scaled = model.predict(test_x)\n",
    "\n",
    "# 예측 결과를 원래의 스케일로 되돌림\n",
    "predictions = scaler_y.inverse_transform(predictions_scaled)\n",
    "\n",
    "# 실제 테스트 데이터의 y 값들을 원래의 스케일로 되돌림\n",
    "y_test_true = scaler_y.inverse_transform(test_y.reshape(-1, 1))\n",
    "\n",
    "# 연속적인 시계열 데이터로 예측 결과를 플롯합니다.\n",
    "plt.figure(figsize=(15, 5))\n",
    "plt.plot(y_test_true, label='Real Target y')\n",
    "plt.plot(predictions, label='Predicted y', alpha=0.6)\n",
    "plt.title('Real vs Predicted Values')\n",
    "plt.xlabel('Time')\n",
    "plt.ylabel('Gas Supply Volume')\n",
    "plt.legend()\n",
    "plt.show()\n"
   ]
  },
  {
   "cell_type": "code",
   "execution_count": 8,
   "id": "5df54320",
   "metadata": {},
   "outputs": [
    {
     "name": "stdout",
     "output_type": "stream",
     "text": [
      "(73617, 5, 8)\n"
     ]
    }
   ],
   "source": [
    "print(test_x.shape)"
   ]
  },
  {
   "cell_type": "code",
   "execution_count": null,
   "id": "baa43d36",
   "metadata": {},
   "outputs": [],
   "source": []
  },
  {
   "cell_type": "code",
   "execution_count": null,
   "id": "8ee98d51",
   "metadata": {},
   "outputs": [],
   "source": []
  },
  {
   "cell_type": "code",
   "execution_count": null,
   "id": "f97da27a",
   "metadata": {},
   "outputs": [],
   "source": []
  },
  {
   "cell_type": "code",
   "execution_count": null,
   "id": "5136a519",
   "metadata": {},
   "outputs": [],
   "source": []
  },
  {
   "cell_type": "code",
   "execution_count": null,
   "id": "2333cdde",
   "metadata": {},
   "outputs": [],
   "source": []
  },
  {
   "cell_type": "code",
   "execution_count": null,
   "id": "13772bb5",
   "metadata": {},
   "outputs": [],
   "source": []
  },
  {
   "cell_type": "code",
   "execution_count": null,
   "id": "a934778e",
   "metadata": {},
   "outputs": [],
   "source": []
  },
  {
   "cell_type": "code",
   "execution_count": 4,
   "id": "3a4f79dc",
   "metadata": {},
   "outputs": [
    {
     "name": "stdout",
     "output_type": "stream",
     "text": [
      "Model: \"sequential_1\"\n",
      "_________________________________________________________________\n",
      " Layer (type)                Output Shape              Param #   \n",
      "=================================================================\n",
      " gru_2 (GRU)                 (None, 5, 64)             14208     \n",
      "                                                                 \n",
      " dropout_2 (Dropout)         (None, 5, 64)             0         \n",
      "                                                                 \n",
      " gru_3 (GRU)                 (None, 32)                9408      \n",
      "                                                                 \n",
      " dropout_3 (Dropout)         (None, 32)                0         \n",
      "                                                                 \n",
      " dense_1 (Dense)             (None, 1)                 33        \n",
      "                                                                 \n",
      "=================================================================\n",
      "Total params: 23649 (92.38 KB)\n",
      "Trainable params: 23649 (92.38 KB)\n",
      "Non-trainable params: 0 (0.00 Byte)\n",
      "_________________________________________________________________\n",
      "Epoch 1/50\n",
      "3993/3993 - 18s - loss: 0.0334 - val_loss: 0.0297 - lr: 0.0010 - 18s/epoch - 5ms/step\n",
      "Epoch 2/50\n",
      "3993/3993 - 15s - loss: 0.0317 - val_loss: 0.0293 - lr: 0.0010 - 15s/epoch - 4ms/step\n",
      "Epoch 3/50\n",
      "3993/3993 - 16s - loss: 0.0315 - val_loss: 0.0290 - lr: 0.0010 - 16s/epoch - 4ms/step\n",
      "Epoch 4/50\n",
      "3993/3993 - 16s - loss: 0.0312 - val_loss: 0.0279 - lr: 0.0010 - 16s/epoch - 4ms/step\n",
      "Epoch 5/50\n",
      "3993/3993 - 16s - loss: 0.0306 - val_loss: 0.0282 - lr: 0.0010 - 16s/epoch - 4ms/step\n",
      "Epoch 6/50\n",
      "3993/3993 - 15s - loss: 0.0301 - val_loss: 0.0265 - lr: 0.0010 - 15s/epoch - 4ms/step\n",
      "Epoch 7/50\n",
      "3993/3993 - 16s - loss: 0.0297 - val_loss: 0.0262 - lr: 0.0010 - 16s/epoch - 4ms/step\n",
      "Epoch 8/50\n",
      "3993/3993 - 15s - loss: 0.0294 - val_loss: 0.0259 - lr: 0.0010 - 15s/epoch - 4ms/step\n",
      "Epoch 9/50\n",
      "3993/3993 - 15s - loss: 0.0294 - val_loss: 0.0257 - lr: 0.0010 - 15s/epoch - 4ms/step\n",
      "Epoch 10/50\n",
      "3993/3993 - 15s - loss: 0.0292 - val_loss: 0.0260 - lr: 0.0010 - 15s/epoch - 4ms/step\n",
      "Epoch 11/50\n",
      "3993/3993 - 15s - loss: 0.0291 - val_loss: 0.0257 - lr: 0.0010 - 15s/epoch - 4ms/step\n",
      "Epoch 12/50\n",
      "3993/3993 - 15s - loss: 0.0291 - val_loss: 0.0259 - lr: 0.0010 - 15s/epoch - 4ms/step\n",
      "Epoch 13/50\n",
      "3993/3993 - 15s - loss: 0.0290 - val_loss: 0.0251 - lr: 0.0010 - 15s/epoch - 4ms/step\n",
      "Epoch 14/50\n",
      "3993/3993 - 15s - loss: 0.0290 - val_loss: 0.0250 - lr: 0.0010 - 15s/epoch - 4ms/step\n",
      "Epoch 15/50\n",
      "3993/3993 - 15s - loss: 0.0289 - val_loss: 0.0251 - lr: 0.0010 - 15s/epoch - 4ms/step\n",
      "Epoch 16/50\n",
      "3993/3993 - 15s - loss: 0.0289 - val_loss: 0.0251 - lr: 0.0010 - 15s/epoch - 4ms/step\n",
      "Epoch 17/50\n",
      "3993/3993 - 15s - loss: 0.0289 - val_loss: 0.0254 - lr: 0.0010 - 15s/epoch - 4ms/step\n",
      "Epoch 18/50\n",
      "3993/3993 - 15s - loss: 0.0288 - val_loss: 0.0250 - lr: 0.0010 - 15s/epoch - 4ms/step\n",
      "Epoch 19/50\n",
      "3993/3993 - 15s - loss: 0.0288 - val_loss: 0.0251 - lr: 0.0010 - 15s/epoch - 4ms/step\n",
      "Epoch 20/50\n",
      "3993/3993 - 15s - loss: 0.0288 - val_loss: 0.0248 - lr: 0.0010 - 15s/epoch - 4ms/step\n",
      "Epoch 21/50\n",
      "3993/3993 - 15s - loss: 0.0287 - val_loss: 0.0249 - lr: 0.0010 - 15s/epoch - 4ms/step\n",
      "Epoch 22/50\n",
      "3993/3993 - 15s - loss: 0.0287 - val_loss: 0.0248 - lr: 0.0010 - 15s/epoch - 4ms/step\n",
      "Epoch 23/50\n",
      "3993/3993 - 15s - loss: 0.0286 - val_loss: 0.0249 - lr: 0.0010 - 15s/epoch - 4ms/step\n",
      "Epoch 24/50\n",
      "3993/3993 - 15s - loss: 0.0286 - val_loss: 0.0251 - lr: 0.0010 - 15s/epoch - 4ms/step\n",
      "Epoch 25/50\n",
      "3993/3993 - 15s - loss: 0.0286 - val_loss: 0.0247 - lr: 0.0010 - 15s/epoch - 4ms/step\n",
      "Epoch 26/50\n",
      "3993/3993 - 15s - loss: 0.0285 - val_loss: 0.0250 - lr: 0.0010 - 15s/epoch - 4ms/step\n",
      "Epoch 27/50\n",
      "3993/3993 - 15s - loss: 0.0286 - val_loss: 0.0251 - lr: 0.0010 - 15s/epoch - 4ms/step\n",
      "Epoch 28/50\n",
      "3993/3993 - 16s - loss: 0.0286 - val_loss: 0.0246 - lr: 0.0010 - 16s/epoch - 4ms/step\n",
      "Epoch 29/50\n",
      "3993/3993 - 16s - loss: 0.0285 - val_loss: 0.0248 - lr: 0.0010 - 16s/epoch - 4ms/step\n",
      "Epoch 30/50\n",
      "3993/3993 - 16s - loss: 0.0285 - val_loss: 0.0247 - lr: 0.0010 - 16s/epoch - 4ms/step\n",
      "Epoch 31/50\n",
      "3993/3993 - 15s - loss: 0.0285 - val_loss: 0.0250 - lr: 0.0010 - 15s/epoch - 4ms/step\n",
      "Epoch 32/50\n",
      "3993/3993 - 15s - loss: 0.0285 - val_loss: 0.0244 - lr: 0.0010 - 15s/epoch - 4ms/step\n",
      "Epoch 33/50\n",
      "3993/3993 - 15s - loss: 0.0284 - val_loss: 0.0249 - lr: 0.0010 - 15s/epoch - 4ms/step\n",
      "Epoch 34/50\n",
      "3993/3993 - 15s - loss: 0.0284 - val_loss: 0.0251 - lr: 0.0010 - 15s/epoch - 4ms/step\n",
      "Epoch 35/50\n",
      "3993/3993 - 15s - loss: 0.0285 - val_loss: 0.0245 - lr: 0.0010 - 15s/epoch - 4ms/step\n",
      "Epoch 36/50\n",
      "3993/3993 - 15s - loss: 0.0284 - val_loss: 0.0246 - lr: 0.0010 - 15s/epoch - 4ms/step\n",
      "Epoch 37/50\n",
      "3993/3993 - 15s - loss: 0.0284 - val_loss: 0.0245 - lr: 0.0010 - 15s/epoch - 4ms/step\n",
      "Epoch 38/50\n",
      "3993/3993 - 15s - loss: 0.0283 - val_loss: 0.0247 - lr: 0.0010 - 15s/epoch - 4ms/step\n",
      "Epoch 39/50\n",
      "3993/3993 - 15s - loss: 0.0283 - val_loss: 0.0245 - lr: 0.0010 - 15s/epoch - 4ms/step\n",
      "Epoch 40/50\n",
      "3993/3993 - 15s - loss: 0.0284 - val_loss: 0.0248 - lr: 0.0010 - 15s/epoch - 4ms/step\n",
      "Epoch 41/50\n",
      "3993/3993 - 15s - loss: 0.0283 - val_loss: 0.0253 - lr: 0.0010 - 15s/epoch - 4ms/step\n",
      "Epoch 42/50\n",
      "3993/3993 - 15s - loss: 0.0283 - val_loss: 0.0246 - lr: 0.0010 - 15s/epoch - 4ms/step\n",
      "Epoch 42: early stopping\n",
      "2219/2219 - 2s - loss: 0.0228 - 2s/epoch - 1ms/step\n",
      "Test loss: 0.02283533103764057\n"
     ]
    },
    {
     "data": {
      "image/png": "[encoded data removed]",
      "text/plain": [
       "<Figure size 640x480 with 1 Axes>"
      ]
     },
     "metadata": {},
     "output_type": "display_data"
    }
   ],
   "source": [
    "import pandas as pd\n",
    "import numpy as np\n",
    "from sklearn.preprocessing import MinMaxScaler\n",
    "from tensorflow.keras.models import Sequential\n",
    "from tensorflow.keras.layers import GRU, Dropout, Dense\n",
    "import matplotlib.pyplot as plt\n",
    "\n",
    "# 데이터 불러오기\n",
    "gas_data = pd.read_csv('./gas/한국가스공사_시간별 공급량_20181231.csv', encoding='cp949', index_col=0)\n",
    "\n",
    "# 원-핫 인코딩 적용\n",
    "gas_data_encoded = pd.get_dummies(gas_data, columns=['구분'])\n",
    "\n",
    "# 결측치 처리 (여기서는 평균값으로 대체하는 예시를 들지만, 실제로는 다른 방법을 적용할 수 있음)\n",
    "gas_data_encoded.fillna(gas_data_encoded.mean(), inplace=True)\n",
    "\n",
    "# 이상치 제거\n",
    "Q1 = gas_data_encoded['공급량(톤)'].quantile(0.25)\n",
    "Q3 = gas_data_encoded['공급량(톤)'].quantile(0.75)\n",
    "IQR = Q3 - Q1\n",
    "lower_bound = Q1 - 1.5 * IQR\n",
    "upper_bound = Q3 + 1.5 * IQR\n",
    "gas_data_cleaned = gas_data_encoded[(gas_data_encoded['공급량(톤)'] >= lower_bound) & (gas_data_encoded['공급량(톤)'] <= upper_bound)]\n",
    "\n",
    "# 데이터 준비\n",
    "dfx = gas_data_cleaned.drop(['공급량(톤)'], axis=1)\n",
    "dfy = gas_data_cleaned['공급량(톤)']\n",
    "\n",
    "# 데이터 스케일링\n",
    "scaler_x = MinMaxScaler()\n",
    "scaler_y = MinMaxScaler()\n",
    "dfx_scaled = scaler_x.fit_transform(dfx)\n",
    "dfy_scaled = scaler_y.fit_transform(dfy.values.reshape(-1, 1))\n",
    "\n",
    "# 시퀀스 데이터 준비\n",
    "def create_dataset(X, y, window_size=5):\n",
    "    data_x, data_y = [], []\n",
    "    for i in range(len(X) - window_size):\n",
    "        data_x.append(X[i:(i + window_size)])\n",
    "        data_y.append(y[i + window_size])\n",
    "    return np.array(data_x), np.array(data_y)\n",
    "\n",
    "data_x, data_y = create_dataset(dfx_scaled, dfy_scaled, window_size=5)\n",
    "\n",
    "from tensorflow.keras.callbacks import EarlyStopping, ReduceLROnPlateau\n",
    "\n",
    "# 조기 종료 및 학습률 조정을 위한 콜백 설정\n",
    "early_stopping = EarlyStopping(monitor='val_loss', patience=10, verbose=1, mode='min')\n",
    "reduce_lr = ReduceLROnPlateau(monitor='val_loss', factor=0.2, patience=5, min_lr=0.001, mode='min')\n",
    "\n",
    "# 데이터 분할\n",
    "train_size = int(len(data_y) * 0.8)\n",
    "train_x, train_y = data_x[:train_size], data_y[:train_size]\n",
    "test_x, test_y = data_x[train_size:], data_y[train_size:]\n",
    "\n",
    "# GRU 모델 구성\n",
    "model = Sequential([\n",
    "    GRU(64, input_shape=(train_x.shape[1], train_x.shape[2]), return_sequences=True),\n",
    "    Dropout(0.5),\n",
    "    GRU(32, return_sequences=False),\n",
    "    Dropout(0.5),\n",
    "    Dense(1)\n",
    "])\n",
    "\n",
    "model.compile(optimizer='adam', loss='mean_squared_error')\n",
    "model.summary()\n",
    "\n",
    "# 모델 학습\n",
    "history = model.fit(train_x, train_y, epochs=50, batch_size=64, validation_split=0.1, verbose=2,\n",
    "                    callbacks=[early_stopping, reduce_lr])\n",
    "\n",
    "# 모델 평가\n",
    "test_loss = model.evaluate(test_x, test_y, verbose=2)\n",
    "print('Test loss:', test_loss)\n",
    "\n",
    "# 학습 과정 시각화\n",
    "plt.plot(history.history['loss'], label='train')\n",
    "plt.plot(history.history['val_loss'], label='validation')\n",
    "plt.title('Model loss')\n",
    "plt.ylabel('Loss')\n",
    "plt.xlabel('Epoch')\n",
    "plt.legend(['Train', 'Validation'], loc='upper left')\n",
    "plt.show()\n"
   ]
  },
  {
   "cell_type": "code",
   "execution_count": 6,
   "id": "c6f18b7a",
   "metadata": {},
   "outputs": [
    {
     "name": "stdout",
     "output_type": "stream",
     "text": [
      "2219/2219 [==============================] - 3s 1ms/step\n"
     ]
    },
    {
     "data": {
      "image/png": "[encoded data removed]",
      "text/plain": [
       "<Figure size 640x480 with 1 Axes>"
      ]
     },
     "metadata": {},
     "output_type": "display_data"
    }
   ],
   "source": [
    "import matplotlib.pyplot as plt\n",
    "pred_y = model.predict(test_x)\n",
    "\n",
    "plt.figure()\n",
    "plt.plot(test_y, color='red', label='real target y')\n",
    "plt.plot(pred_y, color='blue', label='predict y')\n",
    "plt.legend()\n",
    "plt.show()"
   ]
  },
  {
   "cell_type": "code",
   "execution_count": 3,
   "id": "5376001a",
   "metadata": {},
   "outputs": [
    {
     "name": "stderr",
     "output_type": "stream",
     "text": [
      "c:\\Users\\user\\Desktop\\LectureFiles\\ploblem\\myvenv\\lib\\site-packages\\sklearn\\preprocessing\\_encoders.py:975: FutureWarning: `sparse` was renamed to `sparse_output` in version 1.2 and will be removed in 1.4. `sparse_output` is ignored unless you leave `sparse` to its default value.\n",
      "  warnings.warn(\n",
      "c:\\Users\\user\\Desktop\\LectureFiles\\ploblem\\myvenv\\lib\\site-packages\\sklearn\\preprocessing\\_encoders.py:975: FutureWarning: `sparse` was renamed to `sparse_output` in version 1.2 and will be removed in 1.4. `sparse_output` is ignored unless you leave `sparse` to its default value.\n",
      "  warnings.warn(\n"
     ]
    },
    {
     "ename": "AttributeError",
     "evalue": "module 'tensorflow.python.distribute.input_lib' has no attribute 'DistributedDatasetInterface'",
     "output_type": "error",
     "traceback": [
      "\u001b[1;31m---------------------------------------------------------------------------\u001b[0m",
      "\u001b[1;31mAttributeError\u001b[0m                            Traceback (most recent call last)",
      "Cell \u001b[1;32mIn[3], line 88\u001b[0m\n\u001b[0;32m     86\u001b[0m wdl_model \u001b[38;5;241m=\u001b[39m WDL(feature_columns, feature_columns, task\u001b[38;5;241m=\u001b[39m\u001b[38;5;124m'\u001b[39m\u001b[38;5;124mregression\u001b[39m\u001b[38;5;124m'\u001b[39m)\n\u001b[0;32m     87\u001b[0m wdl_model\u001b[38;5;241m.\u001b[39mcompile(\u001b[38;5;124m\"\u001b[39m\u001b[38;5;124madam\u001b[39m\u001b[38;5;124m\"\u001b[39m, \u001b[38;5;124m\"\u001b[39m\u001b[38;5;124mmse\u001b[39m\u001b[38;5;124m\"\u001b[39m, metrics\u001b[38;5;241m=\u001b[39m[\u001b[38;5;124m'\u001b[39m\u001b[38;5;124mmse\u001b[39m\u001b[38;5;124m'\u001b[39m])\n\u001b[1;32m---> 88\u001b[0m \u001b[43mwdl_model\u001b[49m\u001b[38;5;241;43m.\u001b[39;49m\u001b[43mfit\u001b[49m\u001b[43m(\u001b[49m\u001b[43mtrain_cat\u001b[49m\u001b[43m,\u001b[49m\u001b[43m \u001b[49m\u001b[43mtrain\u001b[49m\u001b[43m[\u001b[49m\u001b[43mtarget\u001b[49m\u001b[43m]\u001b[49m\u001b[38;5;241;43m.\u001b[39;49m\u001b[43mvalues\u001b[49m\u001b[43m,\u001b[49m\u001b[43m \u001b[49m\u001b[43mbatch_size\u001b[49m\u001b[38;5;241;43m=\u001b[39;49m\u001b[38;5;241;43m256\u001b[39;49m\u001b[43m,\u001b[49m\u001b[43m \u001b[49m\u001b[43mepochs\u001b[49m\u001b[38;5;241;43m=\u001b[39;49m\u001b[38;5;241;43m10\u001b[39;49m\u001b[43m,\u001b[49m\u001b[43m \u001b[49m\u001b[43mverbose\u001b[49m\u001b[38;5;241;43m=\u001b[39;49m\u001b[38;5;241;43m2\u001b[39;49m\u001b[43m)\u001b[49m\n\u001b[0;32m     90\u001b[0m \u001b[38;5;66;03m# NFM 모델\u001b[39;00m\n\u001b[0;32m     91\u001b[0m nfm_model \u001b[38;5;241m=\u001b[39m NFM(feature_columns, feature_columns, task\u001b[38;5;241m=\u001b[39m\u001b[38;5;124m'\u001b[39m\u001b[38;5;124mregression\u001b[39m\u001b[38;5;124m'\u001b[39m)\n",
      "File \u001b[1;32mc:\\Users\\user\\Desktop\\LectureFiles\\ploblem\\myvenv\\lib\\site-packages\\tensorflow\\python\\keras\\engine\\training.py:1138\u001b[0m, in \u001b[0;36mModel.fit\u001b[1;34m(self, x, y, batch_size, epochs, verbose, callbacks, validation_split, validation_data, shuffle, class_weight, sample_weight, initial_epoch, steps_per_epoch, validation_steps, validation_batch_size, validation_freq, max_queue_size, workers, use_multiprocessing)\u001b[0m\n\u001b[0;32m   1132\u001b[0m   \u001b[38;5;28mself\u001b[39m\u001b[38;5;241m.\u001b[39m_cluster_coordinator \u001b[38;5;241m=\u001b[39m cluster_coordinator\u001b[38;5;241m.\u001b[39mClusterCoordinator(\n\u001b[0;32m   1133\u001b[0m       \u001b[38;5;28mself\u001b[39m\u001b[38;5;241m.\u001b[39mdistribute_strategy)\n\u001b[0;32m   1135\u001b[0m \u001b[38;5;28;01mwith\u001b[39;00m \u001b[38;5;28mself\u001b[39m\u001b[38;5;241m.\u001b[39mdistribute_strategy\u001b[38;5;241m.\u001b[39mscope(), \\\n\u001b[0;32m   1136\u001b[0m      training_utils\u001b[38;5;241m.\u001b[39mRespectCompiledTrainableState(\u001b[38;5;28mself\u001b[39m):\n\u001b[0;32m   1137\u001b[0m   \u001b[38;5;66;03m# Creates a `tf.data.Dataset` and handles batch and epoch iteration.\u001b[39;00m\n\u001b[1;32m-> 1138\u001b[0m   data_handler \u001b[38;5;241m=\u001b[39m \u001b[43mdata_adapter\u001b[49m\u001b[38;5;241;43m.\u001b[39;49m\u001b[43mget_data_handler\u001b[49m\u001b[43m(\u001b[49m\n\u001b[0;32m   1139\u001b[0m \u001b[43m      \u001b[49m\u001b[43mx\u001b[49m\u001b[38;5;241;43m=\u001b[39;49m\u001b[43mx\u001b[49m\u001b[43m,\u001b[49m\n\u001b[0;32m   1140\u001b[0m \u001b[43m      \u001b[49m\u001b[43my\u001b[49m\u001b[38;5;241;43m=\u001b[39;49m\u001b[43my\u001b[49m\u001b[43m,\u001b[49m\n\u001b[0;32m   1141\u001b[0m \u001b[43m      \u001b[49m\u001b[43msample_weight\u001b[49m\u001b[38;5;241;43m=\u001b[39;49m\u001b[43msample_weight\u001b[49m\u001b[43m,\u001b[49m\n\u001b[0;32m   1142\u001b[0m \u001b[43m      \u001b[49m\u001b[43mbatch_size\u001b[49m\u001b[38;5;241;43m=\u001b[39;49m\u001b[43mbatch_size\u001b[49m\u001b[43m,\u001b[49m\n\u001b[0;32m   1143\u001b[0m \u001b[43m      \u001b[49m\u001b[43msteps_per_epoch\u001b[49m\u001b[38;5;241;43m=\u001b[39;49m\u001b[43msteps_per_epoch\u001b[49m\u001b[43m,\u001b[49m\n\u001b[0;32m   1144\u001b[0m \u001b[43m      \u001b[49m\u001b[43minitial_epoch\u001b[49m\u001b[38;5;241;43m=\u001b[39;49m\u001b[43minitial_epoch\u001b[49m\u001b[43m,\u001b[49m\n\u001b[0;32m   1145\u001b[0m \u001b[43m      \u001b[49m\u001b[43mepochs\u001b[49m\u001b[38;5;241;43m=\u001b[39;49m\u001b[43mepochs\u001b[49m\u001b[43m,\u001b[49m\n\u001b[0;32m   1146\u001b[0m \u001b[43m      \u001b[49m\u001b[43mshuffle\u001b[49m\u001b[38;5;241;43m=\u001b[39;49m\u001b[43mshuffle\u001b[49m\u001b[43m,\u001b[49m\n\u001b[0;32m   1147\u001b[0m \u001b[43m      \u001b[49m\u001b[43mclass_weight\u001b[49m\u001b[38;5;241;43m=\u001b[39;49m\u001b[43mclass_weight\u001b[49m\u001b[43m,\u001b[49m\n\u001b[0;32m   1148\u001b[0m \u001b[43m      \u001b[49m\u001b[43mmax_queue_size\u001b[49m\u001b[38;5;241;43m=\u001b[39;49m\u001b[43mmax_queue_size\u001b[49m\u001b[43m,\u001b[49m\n\u001b[0;32m   1149\u001b[0m \u001b[43m      \u001b[49m\u001b[43mworkers\u001b[49m\u001b[38;5;241;43m=\u001b[39;49m\u001b[43mworkers\u001b[49m\u001b[43m,\u001b[49m\n\u001b[0;32m   1150\u001b[0m \u001b[43m      \u001b[49m\u001b[43muse_multiprocessing\u001b[49m\u001b[38;5;241;43m=\u001b[39;49m\u001b[43muse_multiprocessing\u001b[49m\u001b[43m,\u001b[49m\n\u001b[0;32m   1151\u001b[0m \u001b[43m      \u001b[49m\u001b[43mmodel\u001b[49m\u001b[38;5;241;43m=\u001b[39;49m\u001b[38;5;28;43mself\u001b[39;49m\u001b[43m,\u001b[49m\n\u001b[0;32m   1152\u001b[0m \u001b[43m      \u001b[49m\u001b[43msteps_per_execution\u001b[49m\u001b[38;5;241;43m=\u001b[39;49m\u001b[38;5;28;43mself\u001b[39;49m\u001b[38;5;241;43m.\u001b[39;49m\u001b[43m_steps_per_execution\u001b[49m\u001b[43m)\u001b[49m\n\u001b[0;32m   1154\u001b[0m   \u001b[38;5;66;03m# Container that configures and calls `tf.keras.Callback`s.\u001b[39;00m\n\u001b[0;32m   1155\u001b[0m   \u001b[38;5;28;01mif\u001b[39;00m \u001b[38;5;129;01mnot\u001b[39;00m \u001b[38;5;28misinstance\u001b[39m(callbacks, callbacks_module\u001b[38;5;241m.\u001b[39mCallbackList):\n",
      "File \u001b[1;32mc:\\Users\\user\\Desktop\\LectureFiles\\ploblem\\myvenv\\lib\\site-packages\\tensorflow\\python\\keras\\engine\\data_adapter.py:1398\u001b[0m, in \u001b[0;36mget_data_handler\u001b[1;34m(*args, **kwargs)\u001b[0m\n\u001b[0;32m   1396\u001b[0m \u001b[38;5;28;01mif\u001b[39;00m \u001b[38;5;28mgetattr\u001b[39m(kwargs[\u001b[38;5;124m\"\u001b[39m\u001b[38;5;124mmodel\u001b[39m\u001b[38;5;124m\"\u001b[39m], \u001b[38;5;124m\"\u001b[39m\u001b[38;5;124m_cluster_coordinator\u001b[39m\u001b[38;5;124m\"\u001b[39m, \u001b[38;5;28;01mNone\u001b[39;00m):\n\u001b[0;32m   1397\u001b[0m   \u001b[38;5;28;01mreturn\u001b[39;00m _ClusterCoordinatorDataHandler(\u001b[38;5;241m*\u001b[39margs, \u001b[38;5;241m*\u001b[39m\u001b[38;5;241m*\u001b[39mkwargs)\n\u001b[1;32m-> 1398\u001b[0m \u001b[38;5;28;01mreturn\u001b[39;00m \u001b[43mDataHandler\u001b[49m\u001b[43m(\u001b[49m\u001b[38;5;241;43m*\u001b[39;49m\u001b[43margs\u001b[49m\u001b[43m,\u001b[49m\u001b[43m \u001b[49m\u001b[38;5;241;43m*\u001b[39;49m\u001b[38;5;241;43m*\u001b[39;49m\u001b[43mkwargs\u001b[49m\u001b[43m)\u001b[49m\n",
      "File \u001b[1;32mc:\\Users\\user\\Desktop\\LectureFiles\\ploblem\\myvenv\\lib\\site-packages\\tensorflow\\python\\keras\\engine\\data_adapter.py:1152\u001b[0m, in \u001b[0;36mDataHandler.__init__\u001b[1;34m(self, x, y, sample_weight, batch_size, steps_per_epoch, initial_epoch, epochs, shuffle, class_weight, max_queue_size, workers, use_multiprocessing, model, steps_per_execution, distribute)\u001b[0m\n\u001b[0;32m   1149\u001b[0m   \u001b[38;5;28mself\u001b[39m\u001b[38;5;241m.\u001b[39m_steps_per_execution \u001b[38;5;241m=\u001b[39m steps_per_execution\n\u001b[0;32m   1150\u001b[0m   \u001b[38;5;28mself\u001b[39m\u001b[38;5;241m.\u001b[39m_steps_per_execution_value \u001b[38;5;241m=\u001b[39m steps_per_execution\u001b[38;5;241m.\u001b[39mnumpy()\u001b[38;5;241m.\u001b[39mitem()\n\u001b[1;32m-> 1152\u001b[0m adapter_cls \u001b[38;5;241m=\u001b[39m \u001b[43mselect_data_adapter\u001b[49m\u001b[43m(\u001b[49m\u001b[43mx\u001b[49m\u001b[43m,\u001b[49m\u001b[43m \u001b[49m\u001b[43my\u001b[49m\u001b[43m)\u001b[49m\n\u001b[0;32m   1153\u001b[0m \u001b[38;5;28mself\u001b[39m\u001b[38;5;241m.\u001b[39m_adapter \u001b[38;5;241m=\u001b[39m adapter_cls(\n\u001b[0;32m   1154\u001b[0m     x,\n\u001b[0;32m   1155\u001b[0m     y,\n\u001b[1;32m   (...)\u001b[0m\n\u001b[0;32m   1164\u001b[0m     distribution_strategy\u001b[38;5;241m=\u001b[39mdistribute_lib\u001b[38;5;241m.\u001b[39mget_strategy(),\n\u001b[0;32m   1165\u001b[0m     model\u001b[38;5;241m=\u001b[39mmodel)\n\u001b[0;32m   1167\u001b[0m strategy \u001b[38;5;241m=\u001b[39m distribute_lib\u001b[38;5;241m.\u001b[39mget_strategy()\n",
      "File \u001b[1;32mc:\\Users\\user\\Desktop\\LectureFiles\\ploblem\\myvenv\\lib\\site-packages\\tensorflow\\python\\keras\\engine\\data_adapter.py:988\u001b[0m, in \u001b[0;36mselect_data_adapter\u001b[1;34m(x, y)\u001b[0m\n\u001b[0;32m    986\u001b[0m \u001b[38;5;28;01mdef\u001b[39;00m \u001b[38;5;21mselect_data_adapter\u001b[39m(x, y):\n\u001b[0;32m    987\u001b[0m \u001b[38;5;250m  \u001b[39m\u001b[38;5;124;03m\"\"\"Selects a data adapter than can handle a given x and y.\"\"\"\u001b[39;00m\n\u001b[1;32m--> 988\u001b[0m   adapter_cls \u001b[38;5;241m=\u001b[39m [\u001b[38;5;28mcls\u001b[39m \u001b[38;5;28;01mfor\u001b[39;00m \u001b[38;5;28mcls\u001b[39m \u001b[38;5;129;01min\u001b[39;00m ALL_ADAPTER_CLS \u001b[38;5;28;01mif\u001b[39;00m \u001b[38;5;28mcls\u001b[39m\u001b[38;5;241m.\u001b[39mcan_handle(x, y)]\n\u001b[0;32m    989\u001b[0m   \u001b[38;5;28;01mif\u001b[39;00m \u001b[38;5;129;01mnot\u001b[39;00m adapter_cls:\n\u001b[0;32m    990\u001b[0m     \u001b[38;5;66;03m# TODO(scottzhu): This should be a less implementation-specific error.\u001b[39;00m\n\u001b[0;32m    991\u001b[0m     \u001b[38;5;28;01mraise\u001b[39;00m \u001b[38;5;167;01mValueError\u001b[39;00m(\n\u001b[0;32m    992\u001b[0m         \u001b[38;5;124m\"\u001b[39m\u001b[38;5;124mFailed to find data adapter that can handle \u001b[39m\u001b[38;5;124m\"\u001b[39m\n\u001b[0;32m    993\u001b[0m         \u001b[38;5;124m\"\u001b[39m\u001b[38;5;124minput: \u001b[39m\u001b[38;5;132;01m{}\u001b[39;00m\u001b[38;5;124m, \u001b[39m\u001b[38;5;132;01m{}\u001b[39;00m\u001b[38;5;124m\"\u001b[39m\u001b[38;5;241m.\u001b[39mformat(\n\u001b[0;32m    994\u001b[0m             _type_name(x), _type_name(y)))\n",
      "File \u001b[1;32mc:\\Users\\user\\Desktop\\LectureFiles\\ploblem\\myvenv\\lib\\site-packages\\tensorflow\\python\\keras\\engine\\data_adapter.py:988\u001b[0m, in \u001b[0;36m<listcomp>\u001b[1;34m(.0)\u001b[0m\n\u001b[0;32m    986\u001b[0m \u001b[38;5;28;01mdef\u001b[39;00m \u001b[38;5;21mselect_data_adapter\u001b[39m(x, y):\n\u001b[0;32m    987\u001b[0m \u001b[38;5;250m  \u001b[39m\u001b[38;5;124;03m\"\"\"Selects a data adapter than can handle a given x and y.\"\"\"\u001b[39;00m\n\u001b[1;32m--> 988\u001b[0m   adapter_cls \u001b[38;5;241m=\u001b[39m [\u001b[38;5;28mcls\u001b[39m \u001b[38;5;28;01mfor\u001b[39;00m \u001b[38;5;28mcls\u001b[39m \u001b[38;5;129;01min\u001b[39;00m ALL_ADAPTER_CLS \u001b[38;5;28;01mif\u001b[39;00m \u001b[38;5;28;43mcls\u001b[39;49m\u001b[38;5;241;43m.\u001b[39;49m\u001b[43mcan_handle\u001b[49m\u001b[43m(\u001b[49m\u001b[43mx\u001b[49m\u001b[43m,\u001b[49m\u001b[43m \u001b[49m\u001b[43my\u001b[49m\u001b[43m)\u001b[49m]\n\u001b[0;32m    989\u001b[0m   \u001b[38;5;28;01mif\u001b[39;00m \u001b[38;5;129;01mnot\u001b[39;00m adapter_cls:\n\u001b[0;32m    990\u001b[0m     \u001b[38;5;66;03m# TODO(scottzhu): This should be a less implementation-specific error.\u001b[39;00m\n\u001b[0;32m    991\u001b[0m     \u001b[38;5;28;01mraise\u001b[39;00m \u001b[38;5;167;01mValueError\u001b[39;00m(\n\u001b[0;32m    992\u001b[0m         \u001b[38;5;124m\"\u001b[39m\u001b[38;5;124mFailed to find data adapter that can handle \u001b[39m\u001b[38;5;124m\"\u001b[39m\n\u001b[0;32m    993\u001b[0m         \u001b[38;5;124m\"\u001b[39m\u001b[38;5;124minput: \u001b[39m\u001b[38;5;132;01m{}\u001b[39;00m\u001b[38;5;124m, \u001b[39m\u001b[38;5;132;01m{}\u001b[39;00m\u001b[38;5;124m\"\u001b[39m\u001b[38;5;241m.\u001b[39mformat(\n\u001b[0;32m    994\u001b[0m             _type_name(x), _type_name(y)))\n",
      "File \u001b[1;32mc:\\Users\\user\\Desktop\\LectureFiles\\ploblem\\myvenv\\lib\\site-packages\\tensorflow\\python\\keras\\engine\\data_adapter.py:707\u001b[0m, in \u001b[0;36mDatasetAdapter.can_handle\u001b[1;34m(x, y)\u001b[0m\n\u001b[0;32m    704\u001b[0m \u001b[38;5;129m@staticmethod\u001b[39m\n\u001b[0;32m    705\u001b[0m \u001b[38;5;28;01mdef\u001b[39;00m \u001b[38;5;21mcan_handle\u001b[39m(x, y\u001b[38;5;241m=\u001b[39m\u001b[38;5;28;01mNone\u001b[39;00m):\n\u001b[0;32m    706\u001b[0m   \u001b[38;5;28;01mreturn\u001b[39;00m (\u001b[38;5;28misinstance\u001b[39m(x, (data_types\u001b[38;5;241m.\u001b[39mDatasetV1, data_types\u001b[38;5;241m.\u001b[39mDatasetV2)) \u001b[38;5;129;01mor\u001b[39;00m\n\u001b[1;32m--> 707\u001b[0m           \u001b[43m_is_distributed_dataset\u001b[49m\u001b[43m(\u001b[49m\u001b[43mx\u001b[49m\u001b[43m)\u001b[49m)\n",
      "File \u001b[1;32mc:\\Users\\user\\Desktop\\LectureFiles\\ploblem\\myvenv\\lib\\site-packages\\tensorflow\\python\\keras\\engine\\data_adapter.py:1699\u001b[0m, in \u001b[0;36m_is_distributed_dataset\u001b[1;34m(ds)\u001b[0m\n\u001b[0;32m   1698\u001b[0m \u001b[38;5;28;01mdef\u001b[39;00m \u001b[38;5;21m_is_distributed_dataset\u001b[39m(ds):\n\u001b[1;32m-> 1699\u001b[0m   \u001b[38;5;28;01mreturn\u001b[39;00m \u001b[38;5;28misinstance\u001b[39m(ds, \u001b[43minput_lib\u001b[49m\u001b[38;5;241;43m.\u001b[39;49m\u001b[43mDistributedDatasetInterface\u001b[49m)\n",
      "\u001b[1;31mAttributeError\u001b[0m: module 'tensorflow.python.distribute.input_lib' has no attribute 'DistributedDatasetInterface'"
     ]
    }
   ],
   "source": [
    "from sklearn.metrics import mean_squared_error\n",
    "import tensorflow as tf\n",
    "from tensorflow.keras.models import Model\n",
    "from tensorflow.keras.layers import Dense, Input\n",
    "from tensorflow.keras.optimizers import Adam\n",
    "from deepctr.models import WDL, NFM\n",
    "from deepctr.feature_column import SparseFeat, get_feature_names\n",
    "import numpy as np\n",
    "import pandas as pd\n",
    "from sklearn.preprocessing import OneHotEncoder\n",
    "\n",
    "# 데이터 불러오기\n",
    "train = pd.read_csv('./book/train.csv', encoding='utf-8')\n",
    "test = pd.read_csv('./book/test.csv', encoding='utf-8')\n",
    "\n",
    "# 평점이 0인 경우 유저가 해당 도서에 관심이 없고 관련이 없는 경우 이므로 \n",
    "# 평점을 계산할 때 0을 포함시키지않고 계산\n",
    "train= train[train['Book-Rating']>0]\n",
    "\n",
    "# 출판연도가 -1일 경우 결측 혹은 알 수 없음 값이므로 제외\n",
    "train= train[train['Year-Of-Publication']!=-1]\n",
    "\n",
    "# 세계 최고령인 사람이 122살 까지 이므로 123살 이상은 제외\n",
    "# 논리적으로 사고가 가능한 나이를 대략적으로 7세로 가정하고 그 이하는 제외\n",
    "train=train[(train['Age']<122) & (train['Age']>7)]\n",
    "\n",
    "#추가적인 전처리\n",
    "# 평점을 극단적으로 높이 주거나 낮게 주는 유저가 있을수 있지만 그건 유저의 특성이라고 생각하므로 제거하지않음\n",
    "\n",
    "def age_range(x):\n",
    "    if x < 10:\n",
    "        return \"00대\"\n",
    "    elif x < 20 :\n",
    "        return \"10대\"\n",
    "    elif x < 30 :\n",
    "        return \"20대\"\n",
    "    elif x < 40 :\n",
    "        return \"30대\"\n",
    "    elif x < 50 :\n",
    "        return \"40대\"\n",
    "    elif x < 60 :\n",
    "        return \"50대\"\n",
    "    elif x < 70 :\n",
    "        return \"60대\"\n",
    "    elif x < 80 :\n",
    "        return \"70대\"\n",
    "    elif x < 90 :\n",
    "        return \"80대\"\n",
    "    elif x < 100 :\n",
    "        return \"90대\"\n",
    "    elif x < 110 :\n",
    "        return \"100대\"\n",
    "    elif x < 120 :\n",
    "        return \"110대\"\n",
    "    elif x >=120 :\n",
    "        return \"120대\"\n",
    "\n",
    "# 연령대 범주 생성\n",
    "train[\"age_range\"] = train[\"Age\"].apply(lambda x: age_range(x))\n",
    "test[\"age_range\"] = test[\"Age\"].apply(lambda x: age_range(x))\n",
    "\n",
    "# OneHotEncoder 초기화 및 학습\n",
    "ohe = OneHotEncoder(sparse=False, handle_unknown='ignore')  \n",
    "# 알려지지 않은 카테고리는 모든값을0으로 채움\n",
    "# 테스트 데이터에 '120대'에 대한 데이터가 없어서 0으로 채워짐\n",
    "train_cat = ohe.fit_transform(train[['age_range']])\n",
    "test_cat = ohe.transform(test[['age_range']])\n",
    "\n",
    "\n",
    "# OneHotEncoder 초기화 및 학습 (이미 제공된 코드를 기반으로 함)\n",
    "ohe = OneHotEncoder(sparse=False, handle_unknown='ignore')  # 알려지지 않은 카테고리는 모든 값을 0으로 채움\n",
    "train_cat = ohe.fit_transform(train[['age_range']])\n",
    "test_cat = ohe.transform(test[['age_range']])\n",
    "\n",
    "# 피처 컬럼 정의 (이미 제공된 코드를 기반으로 함)\n",
    "sparse_features = ['age_range']\n",
    "target = ['Book-Rating']\n",
    "\n",
    "feature_columns = [SparseFeat(feat, vocabulary_size=len(train[feat].unique()), embedding_dim=4) for feat in sparse_features]\n",
    "feature_names = get_feature_names(feature_columns)\n",
    "\n",
    "# 모델 정의 및 훈련 (위에서 제공된 방식으로 조정)\n",
    "# 여기에서는 훈련 데이터와 테스트 데이터를 바로 사용\n",
    "\n",
    "# Wide & Deep 모델\n",
    "wdl_model = WDL(feature_columns, feature_columns, task='regression')\n",
    "wdl_model.compile(\"adam\", \"mse\", metrics=['mse'])\n",
    "wdl_model.fit(train_cat, train[target].values, batch_size=256, epochs=10, verbose=2)\n",
    "\n",
    "# NFM 모델\n",
    "nfm_model = NFM(feature_columns, feature_columns, task='regression')\n",
    "nfm_model.compile(\"adam\", \"mse\", metrics=['mse'])\n",
    "nfm_model.fit(train_cat, train[target].values, batch_size=256, epochs=10, verbose=2)\n",
    "\n",
    "# 각 모델의 예측값 계산\n",
    "wdl_pred = wdl_model.predict(test_cat)\n",
    "nfm_pred = nfm_model.predict(test_cat)\n",
    "\n",
    "# 두 모델의 예측값 평균 계산\n",
    "final_pred = (wdl_pred + nfm_pred) / 2\n",
    "\n",
    "# 최종 예측값을 파일로 저장\n",
    "test['Book-Rating-Pred'] = final_pred\n",
    "test.to_csv('./book/test_predictions.csv', index=False)\n"
   ]
  },
  {
   "cell_type": "code",
   "execution_count": 1,
   "id": "82dfdfb4",
   "metadata": {},
   "outputs": [
    {
     "data": {
      "text/plain": [
       "(             ID     User-ID      Book-ID  Book-Rating   Age  \\\n",
       " 0  TRAIN_000000  USER_00000  BOOK_044368            8  23.0   \n",
       " 1  TRAIN_000001  USER_00000  BOOK_081205            8  23.0   \n",
       " \n",
       "                            Location                         Book-Title  \\\n",
       " 0  sackville, new brunswick, canada                         Road Taken   \n",
       " 1  sackville, new brunswick, canada  Macbeth (New Penguin Shakespeare)   \n",
       " \n",
       "            Book-Author  Year-Of-Publication      Publisher age_range  \n",
       " 0           Rona Jaffe               2001.0           Mira       20대  \n",
       " 1  William Shakespeare               1981.0  Penguin Books       20대  ,\n",
       "             ID     User-ID      Book-ID   Age              Location  \\\n",
       " 0  TEST_000000  USER_00008  BOOK_047966  37.0  vermilion, ohio, usa   \n",
       " 1  TEST_000001  USER_00008  BOOK_119494  37.0  vermilion, ohio, usa   \n",
       " \n",
       "                            Book-Title Book-Author  Year-Of-Publication  \\\n",
       " 0  Birds of Prey: A Novel of Suspense  J.A. Jance               2002.0   \n",
       " 1                     Midnight Voices   JOHN SAUL               2003.0   \n",
       " \n",
       "           Publisher age_range  \n",
       " 0              Avon       30대  \n",
       " 1  Ballantine Books       30대  )"
      ]
     },
     "execution_count": 1,
     "metadata": {},
     "output_type": "execute_result"
    }
   ],
   "source": [
    "import pandas as pd\n",
    "\n",
    "# 파일 경로\n",
    "train_file_path = './book/train.csv'\n",
    "test_file_path = './book/test.csv'\n",
    "\n",
    "# 데이터 불러오기\n",
    "train = pd.read_csv(train_file_path, encoding='utf-8')\n",
    "test = pd.read_csv(test_file_path, encoding='utf-8')\n",
    "\n",
    "# 데이터 전처리\n",
    "train = train[train['Book-Rating'] > 0]\n",
    "train = train[train['Year-Of-Publication'] != -1]\n",
    "train = train[(train['Age'] < 122) & (train['Age'] > 7)]\n",
    "\n",
    "def age_range(x):\n",
    "    if x < 10: return \"00대\"\n",
    "    elif x < 20: return \"10대\"\n",
    "    elif x < 30: return \"20대\"\n",
    "    elif x < 40: return \"30대\"\n",
    "    elif x < 50: return \"40대\"\n",
    "    elif x < 60: return \"50대\"\n",
    "    elif x < 70: return \"60대\"\n",
    "    elif x < 80: return \"70대\"\n",
    "    elif x < 90: return \"80대\"\n",
    "    elif x < 100: return \"90대\"\n",
    "    elif x < 110: return \"100대\"\n",
    "    elif x < 120: return \"110대\"\n",
    "    else: return \"120대\"\n",
    "\n",
    "train[\"age_range\"] = train[\"Age\"].apply(age_range)\n",
    "test[\"age_range\"] = test[\"Age\"].apply(age_range)\n",
    "\n",
    "# 전처리 결과 확인\n",
    "train.head(2), test.head(2)\n"
   ]
  },
  {
   "cell_type": "code",
   "execution_count": 5,
   "id": "8c1e13f6",
   "metadata": {},
   "outputs": [
    {
     "ename": "ModuleNotFoundError",
     "evalue": "No module named 'deepctr'",
     "output_type": "error",
     "traceback": [
      "\u001b[1;31m---------------------------------------------------------------------------\u001b[0m",
      "\u001b[1;31mModuleNotFoundError\u001b[0m                       Traceback (most recent call last)",
      "Cell \u001b[1;32mIn[5], line 2\u001b[0m\n\u001b[0;32m      1\u001b[0m \u001b[38;5;28;01mfrom\u001b[39;00m \u001b[38;5;21;01msklearn\u001b[39;00m\u001b[38;5;21;01m.\u001b[39;00m\u001b[38;5;21;01mpreprocessing\u001b[39;00m \u001b[38;5;28;01mimport\u001b[39;00m LabelEncoder\n\u001b[1;32m----> 2\u001b[0m \u001b[38;5;28;01mfrom\u001b[39;00m \u001b[38;5;21;01mdeepctr\u001b[39;00m\u001b[38;5;21;01m.\u001b[39;00m\u001b[38;5;21;01mfeature_column\u001b[39;00m \u001b[38;5;28;01mimport\u001b[39;00m SparseFeat, get_feature_names\n\u001b[0;32m      3\u001b[0m \u001b[38;5;28;01mfrom\u001b[39;00m \u001b[38;5;21;01mdeepctr\u001b[39;00m\u001b[38;5;21;01m.\u001b[39;00m\u001b[38;5;21;01mmodels\u001b[39;00m \u001b[38;5;28;01mimport\u001b[39;00m WDL\n\u001b[0;32m      4\u001b[0m \u001b[38;5;28;01mimport\u001b[39;00m \u001b[38;5;21;01mnumpy\u001b[39;00m \u001b[38;5;28;01mas\u001b[39;00m \u001b[38;5;21;01mnp\u001b[39;00m\n",
      "\u001b[1;31mModuleNotFoundError\u001b[0m: No module named 'deepctr'"
     ]
    }
   ],
   "source": [
    "from sklearn.preprocessing import LabelEncoder\n",
    "from deepctr.feature_column import SparseFeat, get_feature_names\n",
    "from deepctr.models import WDL\n",
    "import numpy as np\n",
    "\n",
    "# \"120대\" 라벨을 처리하기 위한 더미 데이터 추가\n",
    "if \"120대\" not in train['age_range'].unique():\n",
    "    # 더미 행 추가\n",
    "    dummy_row = train.iloc[0].copy()\n",
    "    dummy_row['age_range'] = \"120대\"\n",
    "    train = train.append(dummy_row, ignore_index=True)\n",
    "\n",
    "# Label Encoding 재수행\n",
    "le = LabelEncoder()\n",
    "train['age_range'] = le.fit_transform(train['age_range'])\n",
    "test['age_range'] = le.transform(test['age_range'])\n",
    "\n",
    "# 이후 모델 정의 및 학습 과정을 계속 진행...\n",
    "\n",
    "# Label Encoding for 'age_range' to use in DeepCTR models\n",
    "le = LabelEncoder()\n",
    "train['age_range'] = le.fit_transform(train['age_range'])\n",
    "test['age_range'] = le.transform(test['age_range'])\n",
    "\n",
    "# Define feature columns for DeepCTR\n",
    "sparse_features = ['age_range']\n",
    "target = ['Book-Rating']\n",
    "\n",
    "# SparseFeat를 사용해 feature_columns를 생성\n",
    "feature_columns = [SparseFeat(feat, vocabulary_size=train[feat].nunique(), embedding_dim=4) for feat in sparse_features]\n",
    "feature_names = get_feature_names(feature_columns)\n",
    "\n",
    "# 모델 정의 (WDL: Wide & Deep Learning)\n",
    "model = WDL(linear_feature_columns=feature_columns, dnn_feature_columns=feature_columns, task='regression')\n",
    "model.compile(\"adam\", \"mse\", metrics=['mse'])\n",
    "\n",
    "# 모델 학습을 위한 입력 데이터 준비\n",
    "train_model_input = {name: train[name] for name in feature_names}\n",
    "test_model_input = {name: test[name] for name in feature_names}\n",
    "\n",
    "# 모델 학습\n",
    "history = model.fit(train_model_input, train[target].values, batch_size=256, epochs=10, verbose=2)\n",
    "\n",
    "# 모델을 사용한 예측\n",
    "predictions = model.predict(test_model_input, batch_size=256)\n",
    "\n",
    "# 예측값 확인\n",
    "predictions[:5]\n"
   ]
  },
  {
   "cell_type": "code",
   "execution_count": 3,
   "id": "851593bb",
   "metadata": {},
   "outputs": [
    {
     "name": "stdout",
     "output_type": "stream",
     "text": [
      "Requirement already satisfied: deepctr in c:\\users\\user\\appdata\\local\\programs\\python\\python38\\lib\\site-packages (0.9.3)\n",
      "Requirement already satisfied: requests in c:\\users\\user\\appdata\\local\\programs\\python\\python38\\lib\\site-packages (from deepctr) (2.31.0)\n",
      "Requirement already satisfied: h5py==2.10.0 in c:\\users\\user\\appdata\\local\\programs\\python\\python38\\lib\\site-packages (from deepctr) (2.10.0)\n",
      "Requirement already satisfied: numpy>=1.7 in c:\\users\\user\\appdata\\local\\programs\\python\\python38\\lib\\site-packages (from h5py==2.10.0->deepctr) (1.24.4)\n",
      "Requirement already satisfied: six in c:\\users\\user\\appdata\\local\\programs\\python\\python38\\lib\\site-packages (from h5py==2.10.0->deepctr) (1.16.0)\n",
      "Requirement already satisfied: charset-normalizer<4,>=2 in c:\\users\\user\\appdata\\local\\programs\\python\\python38\\lib\\site-packages (from requests->deepctr) (3.3.2)\n",
      "Requirement already satisfied: idna<4,>=2.5 in c:\\users\\user\\appdata\\local\\programs\\python\\python38\\lib\\site-packages (from requests->deepctr) (3.6)\n",
      "Requirement already satisfied: urllib3<3,>=1.21.1 in c:\\users\\user\\appdata\\local\\programs\\python\\python38\\lib\\site-packages (from requests->deepctr) (2.2.1)\n",
      "Requirement already satisfied: certifi>=2017.4.17 in c:\\users\\user\\appdata\\local\\programs\\python\\python38\\lib\\site-packages (from requests->deepctr) (2024.2.2)\n"
     ]
    }
   ],
   "source": [
    "!pip install deepctr"
   ]
  },
  {
   "cell_type": "code",
   "execution_count": null,
   "id": "cf1b04d2",
   "metadata": {},
   "outputs": [],
   "source": []
  },
  {
   "cell_type": "code",
   "execution_count": null,
   "id": "52d9b6be",
   "metadata": {},
   "outputs": [],
   "source": []
  },
  {
   "cell_type": "code",
   "execution_count": null,
   "id": "4f5cca01",
   "metadata": {},
   "outputs": [],
   "source": []
  },
  {
   "cell_type": "code",
   "execution_count": null,
   "id": "1acf9fa8",
   "metadata": {},
   "outputs": [],
   "source": []
  },
  {
   "cell_type": "code",
   "execution_count": null,
   "id": "11f275ca",
   "metadata": {},
   "outputs": [],
   "source": []
  },
  {
   "cell_type": "code",
   "execution_count": null,
   "id": "2b9aa653",
   "metadata": {},
   "outputs": [],
   "source": []
  },
  {
   "cell_type": "code",
   "execution_count": null,
   "id": "e852575d",
   "metadata": {},
   "outputs": [],
   "source": []
  },
  {
   "cell_type": "code",
   "execution_count": null,
   "id": "7aee0b35",
   "metadata": {},
   "outputs": [],
   "source": []
  },
  {
   "cell_type": "code",
   "execution_count": null,
   "id": "6442e4e6",
   "metadata": {},
   "outputs": [],
   "source": []
  },
  {
   "cell_type": "code",
   "execution_count": null,
   "id": "2c3bc800",
   "metadata": {},
   "outputs": [],
   "source": []
  },
  {
   "cell_type": "code",
   "execution_count": null,
   "id": "ffb79be5",
   "metadata": {},
   "outputs": [],
   "source": []
  },
  {
   "cell_type": "code",
   "execution_count": null,
   "id": "950e31e4",
   "metadata": {},
   "outputs": [],
   "source": []
  },
  {
   "cell_type": "code",
   "execution_count": null,
   "id": "0f9b5075",
   "metadata": {},
   "outputs": [],
   "source": []
  },
  {
   "cell_type": "code",
   "execution_count": null,
   "id": "91af4ab2",
   "metadata": {},
   "outputs": [],
   "source": []
  }
 ],
 "metadata": {
  "kernelspec": {
   "display_name": "Python 3 (ipykernel)",
   "language": "python",
   "name": "python3"
  },
  "language_info": {
   "codemirror_mode": {
    "name": "ipython",
    "version": 3
   },
   "file_extension": ".py",
   "mimetype": "text/x-python",
   "name": "python",
   "nbconvert_exporter": "python",
   "pygments_lexer": "ipython3",
   "version": "3.8.10"
  }
 },
 "nbformat": 4,
 "nbformat_minor": 5
}
